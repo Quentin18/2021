{
 "cells": [
  {
   "cell_type": "markdown",
   "metadata": {},
   "source": [
    "# ADA final exam (Fall 2021)\n",
    "\n",
    "This exam consists of 2 parts.\n",
    "The first part has 3 tasks.\n",
    "The second part has 2 tasks.\n",
    "The two parts are completely independent of each other.\n",
    "\n",
    "## Important: The data used for this exam **is not entirely real.** A great deal of it has been artificially created or modified. Conclusions drawn from this data have no real link to reality!"
   ]
  },
  {
   "cell_type": "code",
   "execution_count": 1,
   "metadata": {
    "pycharm": {
     "name": "#%%\n"
    }
   },
   "outputs": [],
   "source": [
    "%matplotlib inline\n",
    "\n",
    "# General\n",
    "import pandas as pd\n",
    "import numpy as np\n",
    "\n",
    "# For plotting\n",
    "import matplotlib.pyplot as plt\n",
    "import seaborn as sns\n",
    "\n",
    "# For graph-related stuff\n",
    "import networkx as nx\n",
    "\n",
    "# For regression analyses and statistical tests\n",
    "import scipy.stats as stats\n",
    "import statsmodels.stats\n",
    "import statsmodels.formula.api as smf\n",
    "\n",
    "# For classification\n",
    "from sklearn import linear_model as lm\n",
    "from sklearn.model_selection import train_test_split\n",
    "from sklearn.metrics import accuracy_score\n",
    "\n",
    "import os"
   ]
  },
  {
   "cell_type": "markdown",
   "metadata": {},
   "source": [
    "\n",
    "## Part 1 — Faculty hiring network\n",
    "\n",
    "For the first part of the exam, you will analyze data from a faculty hiring network. After completing their Ph.D., researchers who want to pursue an academic career must compete for relatively few permanent positions (as “faculty”, i.e., professors) in a highly competitive job market. You will analyze a directed graph that captures the dynamics of this hiring process in the United States:\n",
    "\n",
    "\n",
    "- Each node $u$ in this graph represents a different American university.\n",
    "- For each university, we also provide a score that captures how highly  this university is ranked (e.g., Stanford University is ranked more highly than the University of Alabama). The higher the score, the more highly ranked the university.\n",
    "- Each directed edge $(u,v)$ in this graph represents a hiring decision where someone who did their Ph.D. at university $u$ subsequently was hired by university $v$. Each edge is also associated with a gender label, which specifies if the person hired was a man (M) or a woman (F).\n",
    "- Note that, when multiple researchers were trained at a given university $u$ and subsequently hired by university $v$, there will be multiple edges pointing from $u$ to $v$, each of which corresponds to a different person.\n",
    "\n",
    "\n",
    "## Files (in the `./data/part-1/` folder)\n",
    "\n",
    "- `nodelist.tsv` a tab-separated file containing the nodes of the graph. Recall that each node represents a different university. The file has these columns:\n",
    "    - `u` — the node index;\n",
    "    - `score` — the rank of the university (the higher the better);\n",
    "    - `name` — the name of the university.\n",
    "\n",
    "- `edgelist.tsv` a tab-separated file containing the edges of the graph. Recall that each edge represents a hiring decision. The file has columns:\n",
    "    - `u` — the source university, where the person got their Ph.D.;\n",
    "    - `v` — the target university, where the person was hired;\n",
    "    - `gender` — the gender of the person.\n",
    "\n",
    "\n",
    "### Task 1 — (20 points)\n",
    "\n",
    "1. Using the above files, create the directed graph representing the hiring network using `networkx`.\n",
    "Each node should contain the attributes `score` and `name`, and each edge should contain the attribute `gender`.\n",
    "Print the total numbers of nodes and edges in the graph.\n",
    "\n",
    "2. Create a plot that allows you to easily visualize **(a)** what fraction of all researchers in the graph are hired by the $N$ universities that hire the most; and  **(b)** what fraction of all researchers in the graph are trained by the $N$ universities whose students get hired the most.\n",
    "Here, $N$ could be any number between 1 and the number of universities.\n",
    "\n",
    "3. **/Multiple choice:/** Which centrality metric(s) is/are illustrated in the plot you made for the previous subtask? Select all that apply from the list below and **justify your answer.**\n",
    "    1. Betweenness centrality\n",
    "    2. In-degree centrality\n",
    "    3. Out-degree centrality\n",
    "    4. PageRank centrality\n",
    "\n",
    "4. **/True or false:/** Search engines such as Google have historically used PageRank centrality as a signal to determine the importance of pages on the Web. Is the following statement **true** or **false**? Justify. **\"In the faculty hiring network, PageRank centrality is positively correlated with university score, that is, universities with higher scores are more likely to also have higher PageRank centrality.\"**\n"
   ]
  },
  {
   "cell_type": "markdown",
   "metadata": {},
   "source": [
    "#### Question 1"
   ]
  },
  {
   "cell_type": "code",
   "execution_count": 2,
   "metadata": {
    "pycharm": {
     "name": "#%%\n"
    }
   },
   "outputs": [],
   "source": [
    "# Paths\n",
    "EDGELIST_PATH = os.path.join('data', 'part-1', 'edgelist.tsv')\n",
    "NODELIST_PATH = os.path.join('data', 'part-1', 'nodelist.tsv')\n",
    "\n",
    "# Create dataframes\n",
    "df_edgelist = pd.read_csv(EDGELIST_PATH, sep='\\t')\n",
    "df_nodelist = pd.read_csv(NODELIST_PATH, sep='\\t')"
   ]
  },
  {
   "cell_type": "code",
   "execution_count": 3,
   "metadata": {},
   "outputs": [
    {
     "data": {
      "text/html": [
       "<div>\n",
       "<style scoped>\n",
       "    .dataframe tbody tr th:only-of-type {\n",
       "        vertical-align: middle;\n",
       "    }\n",
       "\n",
       "    .dataframe tbody tr th {\n",
       "        vertical-align: top;\n",
       "    }\n",
       "\n",
       "    .dataframe thead th {\n",
       "        text-align: right;\n",
       "    }\n",
       "</style>\n",
       "<table border=\"1\" class=\"dataframe\">\n",
       "  <thead>\n",
       "    <tr style=\"text-align: right;\">\n",
       "      <th></th>\n",
       "      <th>u</th>\n",
       "      <th>v</th>\n",
       "      <th>gender</th>\n",
       "    </tr>\n",
       "  </thead>\n",
       "  <tbody>\n",
       "    <tr>\n",
       "      <th>0</th>\n",
       "      <td>1</td>\n",
       "      <td>1</td>\n",
       "      <td>F</td>\n",
       "    </tr>\n",
       "    <tr>\n",
       "      <th>1</th>\n",
       "      <td>1</td>\n",
       "      <td>1</td>\n",
       "      <td>F</td>\n",
       "    </tr>\n",
       "    <tr>\n",
       "      <th>2</th>\n",
       "      <td>1</td>\n",
       "      <td>1</td>\n",
       "      <td>F</td>\n",
       "    </tr>\n",
       "    <tr>\n",
       "      <th>3</th>\n",
       "      <td>1</td>\n",
       "      <td>1</td>\n",
       "      <td>M</td>\n",
       "    </tr>\n",
       "    <tr>\n",
       "      <th>4</th>\n",
       "      <td>1</td>\n",
       "      <td>1</td>\n",
       "      <td>M</td>\n",
       "    </tr>\n",
       "    <tr>\n",
       "      <th>...</th>\n",
       "      <td>...</td>\n",
       "      <td>...</td>\n",
       "      <td>...</td>\n",
       "    </tr>\n",
       "    <tr>\n",
       "      <th>4383</th>\n",
       "      <td>194</td>\n",
       "      <td>194</td>\n",
       "      <td>M</td>\n",
       "    </tr>\n",
       "    <tr>\n",
       "      <th>4384</th>\n",
       "      <td>198</td>\n",
       "      <td>198</td>\n",
       "      <td>M</td>\n",
       "    </tr>\n",
       "    <tr>\n",
       "      <th>4385</th>\n",
       "      <td>200</td>\n",
       "      <td>200</td>\n",
       "      <td>F</td>\n",
       "    </tr>\n",
       "    <tr>\n",
       "      <th>4386</th>\n",
       "      <td>204</td>\n",
       "      <td>204</td>\n",
       "      <td>M</td>\n",
       "    </tr>\n",
       "    <tr>\n",
       "      <th>4387</th>\n",
       "      <td>204</td>\n",
       "      <td>204</td>\n",
       "      <td>M</td>\n",
       "    </tr>\n",
       "  </tbody>\n",
       "</table>\n",
       "<p>4388 rows × 3 columns</p>\n",
       "</div>"
      ],
      "text/plain": [
       "        u    v gender\n",
       "0       1    1      F\n",
       "1       1    1      F\n",
       "2       1    1      F\n",
       "3       1    1      M\n",
       "4       1    1      M\n",
       "...   ...  ...    ...\n",
       "4383  194  194      M\n",
       "4384  198  198      M\n",
       "4385  200  200      F\n",
       "4386  204  204      M\n",
       "4387  204  204      M\n",
       "\n",
       "[4388 rows x 3 columns]"
      ]
     },
     "execution_count": 3,
     "metadata": {},
     "output_type": "execute_result"
    }
   ],
   "source": [
    "df_edgelist"
   ]
  },
  {
   "cell_type": "code",
   "execution_count": 4,
   "metadata": {},
   "outputs": [
    {
     "data": {
      "text/html": [
       "<div>\n",
       "<style scoped>\n",
       "    .dataframe tbody tr th:only-of-type {\n",
       "        vertical-align: middle;\n",
       "    }\n",
       "\n",
       "    .dataframe tbody tr th {\n",
       "        vertical-align: top;\n",
       "    }\n",
       "\n",
       "    .dataframe thead th {\n",
       "        text-align: right;\n",
       "    }\n",
       "</style>\n",
       "<table border=\"1\" class=\"dataframe\">\n",
       "  <thead>\n",
       "    <tr style=\"text-align: right;\">\n",
       "      <th></th>\n",
       "      <th>u</th>\n",
       "      <th>score</th>\n",
       "      <th>name</th>\n",
       "    </tr>\n",
       "  </thead>\n",
       "  <tbody>\n",
       "    <tr>\n",
       "      <th>0</th>\n",
       "      <td>1</td>\n",
       "      <td>100.000000</td>\n",
       "      <td>Stanford University</td>\n",
       "    </tr>\n",
       "    <tr>\n",
       "      <th>1</th>\n",
       "      <td>2</td>\n",
       "      <td>99.956665</td>\n",
       "      <td>UC Berkeley</td>\n",
       "    </tr>\n",
       "    <tr>\n",
       "      <th>2</th>\n",
       "      <td>3</td>\n",
       "      <td>99.301230</td>\n",
       "      <td>MIT</td>\n",
       "    </tr>\n",
       "    <tr>\n",
       "      <th>3</th>\n",
       "      <td>4</td>\n",
       "      <td>98.369536</td>\n",
       "      <td>California Institute of Technology</td>\n",
       "    </tr>\n",
       "    <tr>\n",
       "      <th>4</th>\n",
       "      <td>5</td>\n",
       "      <td>97.892855</td>\n",
       "      <td>Harvard University</td>\n",
       "    </tr>\n",
       "    <tr>\n",
       "      <th>...</th>\n",
       "      <td>...</td>\n",
       "      <td>...</td>\n",
       "      <td>...</td>\n",
       "    </tr>\n",
       "    <tr>\n",
       "      <th>200</th>\n",
       "      <td>201</td>\n",
       "      <td>2.535074</td>\n",
       "      <td>Pace University</td>\n",
       "    </tr>\n",
       "    <tr>\n",
       "      <th>201</th>\n",
       "      <td>202</td>\n",
       "      <td>2.470072</td>\n",
       "      <td>New Mexico Institute of Mining and Technology</td>\n",
       "    </tr>\n",
       "    <tr>\n",
       "      <th>202</th>\n",
       "      <td>203</td>\n",
       "      <td>2.367152</td>\n",
       "      <td>University of Nevada, Reno</td>\n",
       "    </tr>\n",
       "    <tr>\n",
       "      <th>203</th>\n",
       "      <td>204</td>\n",
       "      <td>0.016250</td>\n",
       "      <td>University of Alabama, Tuscaloosa</td>\n",
       "    </tr>\n",
       "    <tr>\n",
       "      <th>204</th>\n",
       "      <td>205</td>\n",
       "      <td>0.000000</td>\n",
       "      <td>University of North Texas, Denton</td>\n",
       "    </tr>\n",
       "  </tbody>\n",
       "</table>\n",
       "<p>205 rows × 3 columns</p>\n",
       "</div>"
      ],
      "text/plain": [
       "       u       score                                           name\n",
       "0      1  100.000000                            Stanford University\n",
       "1      2   99.956665                                    UC Berkeley\n",
       "2      3   99.301230                                            MIT\n",
       "3      4   98.369536             California Institute of Technology\n",
       "4      5   97.892855                             Harvard University\n",
       "..   ...         ...                                            ...\n",
       "200  201    2.535074                                Pace University\n",
       "201  202    2.470072  New Mexico Institute of Mining and Technology\n",
       "202  203    2.367152                     University of Nevada, Reno\n",
       "203  204    0.016250              University of Alabama, Tuscaloosa\n",
       "204  205    0.000000              University of North Texas, Denton\n",
       "\n",
       "[205 rows x 3 columns]"
      ]
     },
     "execution_count": 4,
     "metadata": {},
     "output_type": "execute_result"
    }
   ],
   "source": [
    "df_nodelist"
   ]
  },
  {
   "cell_type": "code",
   "execution_count": 5,
   "metadata": {},
   "outputs": [
    {
     "data": {
      "text/plain": [
       "{1: {'score': 100.0, 'name': 'Stanford University'},\n",
       " 2: {'score': 99.95666540274092, 'name': 'UC Berkeley'},\n",
       " 3: {'score': 99.30122961919722, 'name': 'MIT'},\n",
       " 4: {'score': 98.36953577812685, 'name': 'California Institute of Technology'},\n",
       " 5: {'score': 97.8928552082769, 'name': 'Harvard University'},\n",
       " 6: {'score': 96.71740425762418, 'name': 'Cornell University'},\n",
       " 7: {'score': 96.18113861654297, 'name': 'Carnegie Mellon University'},\n",
       " 8: {'score': 96.15947131791344, 'name': 'Princeton University'},\n",
       " 9: {'score': 95.80196089052598, 'name': 'Yale University'},\n",
       " 10: {'score': 95.2169438275283, 'name': 'University of Washington'},\n",
       " 11: {'score': 93.93315638372783,\n",
       "  'name': 'University of Illinois, Urbana Champaign'},\n",
       " 12: {'score': 93.55939548236822, 'name': 'University of Wisconsin, Madison'},\n",
       " 13: {'score': 92.91479334813933, 'name': 'University of Pennsylvania'},\n",
       " 14: {'score': 92.30269216185472, 'name': 'Rice University'},\n",
       " 15: {'score': 91.55517035913547, 'name': 'UCLA'},\n",
       " 16: {'score': 91.33308054818264, 'name': 'New York University'},\n",
       " 17: {'score': 91.0134878933969, 'name': 'University of Chicago'},\n",
       " 18: {'score': 90.67764476463896, 'name': 'University of Texas, Austin'},\n",
       " 19: {'score': 89.33427224960728, 'name': 'Brown University'},\n",
       " 20: {'score': 89.00384594550674, 'name': 'Columbia University'},\n",
       " 21: {'score': 87.77964357293754, 'name': 'University of Toronto'},\n",
       " 22: {'score': 87.31921347705973, 'name': 'University of Rochester'},\n",
       " 23: {'score': 87.0321217702183, 'name': 'University of Southern California'},\n",
       " 24: {'score': 86.96170304967227, 'name': 'Johns Hopkins University'},\n",
       " 25: {'score': 86.6096094469422,\n",
       "  'name': 'University of Massachusetts, Amherst'},\n",
       " 26: {'score': 86.07876063051837, 'name': 'UC San Diego'},\n",
       " 27: {'score': 85.68874925518661,\n",
       "  'name': 'University of Maryland, College Park'},\n",
       " 28: {'score': 85.29873787985483, 'name': 'University of Michigan'},\n",
       " 29: {'score': 85.20123503602187,\n",
       "  'name': 'University of North Carolina, Chapel Hill'},\n",
       " 30: {'score': 84.68663669357022, 'name': 'Duke University'},\n",
       " 31: {'score': 81.70196630735063,\n",
       "  'name': 'State University of New York, Stony Brook'},\n",
       " 32: {'score': 80.97069497860355, 'name': 'UC Irvine'},\n",
       " 33: {'score': 80.67818644710471, 'name': 'Dartmouth College'},\n",
       " 34: {'score': 80.5644331292996, 'name': 'University of Virginia'},\n",
       " 35: {'score': 80.47776393478142, 'name': 'Purdue University'},\n",
       " 36: {'score': 80.11483668273658,\n",
       "  'name': 'University of Minnesota, Minneapolis'},\n",
       " 37: {'score': 79.70857483343265, 'name': 'Georgia Tech'},\n",
       " 38: {'score': 79.29147933481391, 'name': 'Rutgers University'},\n",
       " 39: {'score': 79.23189426358269, 'name': 'University of Arizona'},\n",
       " 40: {'score': 78.87980066085261, 'name': 'Pennsylvania State University'},\n",
       " 41: {'score': 78.36520231840096, 'name': 'Ohio State University'},\n",
       " 42: {'score': 77.11933264720221, 'name': 'Northwestern University'},\n",
       " 43: {'score': 76.07388548832674, 'name': 'Washington University, St. Louis'},\n",
       " 44: {'score': 75.85179567737393, 'name': 'University of Pittsburgh'},\n",
       " 45: {'score': 73.18671794594009, 'name': 'Boston University'},\n",
       " 46: {'score': 73.17588429662531, 'name': 'University of British Columbia'},\n",
       " 47: {'score': 71.49125182817832, 'name': 'University of Oregon'},\n",
       " 48: {'score': 70.47288879258977, 'name': 'Syracuse University'},\n",
       " 49: {'score': 70.46205514327501, 'name': 'UC Santa Barbara'},\n",
       " 50: {'score': 69.19451817344672, 'name': 'University of Utah'},\n",
       " 51: {'score': 67.95406532690536, 'name': 'UC Davis'},\n",
       " 52: {'score': 67.00612101186285, 'name': 'Texas A&M'},\n",
       " 53: {'score': 66.01484209956124, 'name': 'University of Houston'},\n",
       " 54: {'score': 65.32690536807324, 'name': 'Michigan State University'},\n",
       " 55: {'score': 64.47646389686366, 'name': 'University of Waterloo'},\n",
       " 56: {'score': 64.28145820919777, 'name': 'University of Colorado, Boulder'},\n",
       " 57: {'score': 63.37684849141433, 'name': 'McGill University'},\n",
       " 58: {'score': 63.26851199826661, 'name': 'CUNY Graduate Center'},\n",
       " 59: {'score': 62.84599967499053, 'name': 'Case Western Reserve University'},\n",
       " 60: {'score': 62.67266128595417, 'name': 'UC Riverside'},\n",
       " 61: {'score': 60.90677644764638, 'name': 'University of Kansas, Lawrence'},\n",
       " 62: {'score': 60.59260061751801, 'name': 'Florida State University'},\n",
       " 63: {'score': 60.47343047505552, 'name': 'College of William and Mary'},\n",
       " 64: {'score': 59.78549374356752, 'name': 'Lehigh University'},\n",
       " 65: {'score': 58.66421103948865, 'name': 'University of Montreal'},\n",
       " 66: {'score': 58.431287579221056, 'name': 'Simon Fraser University'},\n",
       " 67: {'score': 58.236281891555166, 'name': 'University of Illinois, Chicago'},\n",
       " 68: {'score': 58.2254482422404, 'name': 'University of Cincinnati'},\n",
       " 69: {'score': 58.149612697037, 'name': 'UC Santa Cruz'},\n",
       " 70: {'score': 58.046693028546656, 'name': 'Rensselaer Polytechnic Institute'},\n",
       " 71: {'score': 57.75418449704783, 'name': 'Southern Methodist University'},\n",
       " 72: {'score': 57.05541411624505, 'name': 'University of Central Florida'},\n",
       " 73: {'score': 56.97957857104164, 'name': 'University of New Mexico'},\n",
       " 74: {'score': 56.844157954607, 'name': 'North Carolina State University'},\n",
       " 75: {'score': 56.703320513514974,\n",
       "  'name': 'State University of New York, Buffalo'},\n",
       " 76: {'score': 56.57331672173771, 'name': 'Stevens Institute of Technology'},\n",
       " 77: {'score': 56.05871837928606,\n",
       "  'name': 'Washington State University, Pullman'},\n",
       " 78: {'score': 55.70120795189859, 'name': 'McMaster University'},\n",
       " 79: {'score': 55.40869942039976, 'name': 'Brandeis University'},\n",
       " 80: {'score': 54.49325605330155, 'name': 'University of Alberta'},\n",
       " 81: {'score': 53.978657710849895, 'name': 'George Washington University'},\n",
       " 82: {'score': 53.85407074373002, 'name': 'Polytechnic Institute of NYU'},\n",
       " 83: {'score': 53.816152971128325, 'name': 'University of Iowa'},\n",
       " 84: {'score': 53.72406695195277, 'name': 'University of Delaware'},\n",
       " 85: {'score': 51.12940794106494, 'name': 'Iowa State University'},\n",
       " 86: {'score': 51.102323817778014, 'name': 'Vanderbilt University'},\n",
       " 87: {'score': 49.78061860137588, 'name': 'University of Florida'},\n",
       " 88: {'score': 48.48058068360327, 'name': 'George Mason University'},\n",
       " 89: {'score': 47.68972428362494, 'name': 'University of Notre Dame'},\n",
       " 90: {'score': 47.267211960348845, 'name': 'Wayne State University'},\n",
       " 91: {'score': 46.89345105898922, 'name': 'University of Calgary'},\n",
       " 92: {'score': 46.70386219598071,\n",
       "  'name': 'University of Louisiana, Lafayette'},\n",
       " 93: {'score': 46.55219110557391, 'name': 'University of Western Ontario'},\n",
       " 94: {'score': 46.10259465901088, 'name': 'Carleton University'},\n",
       " 95: {'score': 46.03217593846487, 'name': 'Queens University'},\n",
       " 96: {'score': 45.91842262065977,\n",
       "  'name': 'University of Wisconsin, Milwaukee'},\n",
       " 97: {'score': 45.86425437408591, 'name': 'Louisiana State University'},\n",
       " 98: {'score': 43.45376740154921, 'name': 'University of Texas, Arlington'},\n",
       " 99: {'score': 43.02042142895834, 'name': 'University of Ottawa'},\n",
       " 100: {'score': 42.53290720979362, 'name': 'University of Connecticut'},\n",
       " 101: {'score': 42.32165104815557,\n",
       "  'name': 'Oregon Health and Science University'},\n",
       " 102: {'score': 42.316234223498185, 'name': 'Arizona State University'},\n",
       " 103: {'score': 41.99664156871242, 'name': 'Kansas State University'},\n",
       " 104: {'score': 41.52537782351985,\n",
       "  'name': 'State University of New York, Albany'},\n",
       " 105: {'score': 40.572016683819946, 'name': 'University of South Florida'},\n",
       " 106: {'score': 40.32284274958019, 'name': 'Virginia Tech'},\n",
       " 107: {'score': 39.66740696603651, 'name': 'Portland State University'},\n",
       " 108: {'score': 39.59157142083311, 'name': 'University of South Carolina'},\n",
       " 109: {'score': 39.52656952494447,\n",
       "  'name': 'Missouri University of Science and Technology'},\n",
       " 110: {'score': 38.24278208114404, 'name': 'University of Oklahoma'},\n",
       " 111: {'score': 37.96652402361735, 'name': 'Indiana University'},\n",
       " 112: {'score': 37.44109203185093, 'name': 'Illinois Institute of Technology'},\n",
       " 113: {'score': 36.73148800173338,\n",
       "  'name': 'University of Tennessee, Knoxville'},\n",
       " 114: {'score': 36.076052218189695, 'name': 'University of Miami'},\n",
       " 115: {'score': 35.74562591408916,\n",
       "  'name': 'New Jersey Institute of Technology'},\n",
       " 116: {'score': 34.521423541519965, 'name': 'University of Kentucky'},\n",
       " 117: {'score': 33.849737284004114,\n",
       "  'name': 'State University of New York, Binghamton'},\n",
       " 118: {'score': 33.71431666756947, 'name': 'Colorado State University'},\n",
       " 119: {'score': 33.22138562374736, 'name': 'University of Colorado, Denver'},\n",
       " 120: {'score': 33.02637993608147, 'name': 'University of Texas, Dallas'},\n",
       " 121: {'score': 32.95596121553545, 'name': 'University of Rhode Island'},\n",
       " 122: {'score': 32.86929202101728,\n",
       "  'name': 'Toyota Technological Institute at Chicago'},\n",
       " 123: {'score': 32.58220031417583, 'name': 'Auburn University'},\n",
       " 124: {'score': 32.21385623747359, 'name': 'Drexel University'},\n",
       " 125: {'score': 32.02426737446509, 'name': 'Oregon State University'},\n",
       " 126: {'score': 31.265911922431066, 'name': 'University of Manitoba'},\n",
       " 127: {'score': 30.77298087860896, 'name': 'University of Regina'},\n",
       " 128: {'score': 30.43172092519365, 'name': 'University of Nebraska, Lincoln'},\n",
       " 129: {'score': 30.323384432045923, 'name': 'University of Saskatchewan'},\n",
       " 130: {'score': 30.13921239369482, 'name': 'Florida Atlantic University'},\n",
       " 131: {'score': 29.04501381290288, 'name': 'University of Texas, San Antonio'},\n",
       " 132: {'score': 28.725421158117108, 'name': 'University of Denver'},\n",
       " 133: {'score': 28.55208276908077,\n",
       "  'name': 'University of Maryland, Baltimore County'},\n",
       " 134: {'score': 28.362493906072267, 'name': 'Oakland University (Michigan)'},\n",
       " 135: {'score': 27.74497589513027, 'name': 'University of Maine'},\n",
       " 136: {'score': 26.82953252803207, 'name': 'Clarkson University'},\n",
       " 137: {'score': 26.73202968419912, 'name': 'New Mexico State University'},\n",
       " 138: {'score': 26.63994366502356, 'name': 'University of Memphis'},\n",
       " 139: {'score': 26.52619034721846, 'name': 'University of Victoria'},\n",
       " 140: {'score': 26.42868750338551, 'name': 'Concordia University, Montreal'},\n",
       " 141: {'score': 26.065760251340663,\n",
       "  'name': 'University of Missouri, Kansas City'},\n",
       " 142: {'score': 25.6703320513515, 'name': 'University of Missouri, Columbia'},\n",
       " 143: {'score': 25.388657169167438, 'name': 'Dalhousie University'},\n",
       " 144: {'score': 25.37782351985265, 'name': 'Virginia Commonwealth University'},\n",
       " 145: {'score': 24.96614484589134, 'name': 'Worcester Polytechnic Institute'},\n",
       " 146: {'score': 24.261957640431174, 'name': 'Old Dominion University'},\n",
       " 147: {'score': 24.1807052705704, 'name': 'University of Texas, El Paso'},\n",
       " 148: {'score': 24.16445479659824, 'name': 'Naval Postgraduate School'},\n",
       " 149: {'score': 23.63902280483181,\n",
       "  'name': 'University of Massachusetts, Boston'},\n",
       " 150: {'score': 22.772330859650065, 'name': 'University of Wyoming'},\n",
       " 151: {'score': 22.53399057472509, 'name': 'York University'},\n",
       " 152: {'score': 22.30648393911489, 'name': 'University of Georgia'},\n",
       " 153: {'score': 21.8839716158388, 'name': 'Mississippi State University'},\n",
       " 154: {'score': 21.85147066789448, 'name': 'Tufts University'},\n",
       " 155: {'score': 21.62396403228428, 'name': 'Florida International University'},\n",
       " 156: {'score': 20.91436000216673,\n",
       "  'name': 'Southern Illinois University, Carbondale'},\n",
       " 157: {'score': 19.912247440550345, 'name': 'Ohio University'},\n",
       " 158: {'score': 19.44098369535779, 'name': 'Claremont Graduate University'},\n",
       " 159: {'score': 19.392232273441312, 'name': 'Catholic University of America'},\n",
       " 160: {'score': 19.170142462488496, 'name': 'Clemson University'},\n",
       " 161: {'score': 19.164725637831097,\n",
       "  'name': 'University of Massachusetts, Lowell'},\n",
       " 162: {'score': 19.00222089810953, 'name': 'Oklahoma State University'},\n",
       " 163: {'score': 18.509289854287424,\n",
       "  'name': 'University of North Carolina, Charlotte'},\n",
       " 164: {'score': 18.09219435566871,\n",
       "  'name': 'University of Alabama, Birmingham'},\n",
       " 165: {'score': 17.9784410378636, 'name': 'Santa Clara University'},\n",
       " 166: {'score': 17.31217160500515, 'name': 'University of Hawaii, Manoa'},\n",
       " 167: {'score': 16.618818048859758, 'name': 'Temple University'},\n",
       " 168: {'score': 16.515898380369432, 'name': 'University of Toledo'},\n",
       " 169: {'score': 16.461730133795577,\n",
       "  'name': 'Michigan Technological University'},\n",
       " 170: {'score': 16.174638426954125, 'name': 'University of New Hampshire'},\n",
       " 171: {'score': 15.806294350251884, 'name': 'Montana State University'},\n",
       " 172: {'score': 15.557120416012133, 'name': 'University of New Brunswick'},\n",
       " 173: {'score': 14.972103353014472, 'name': 'Wright State University'},\n",
       " 174: {'score': 12.843291262661833, 'name': 'Western Michigan University'},\n",
       " 175: {'score': 12.485780835274369, 'name': 'Northeastern University'},\n",
       " 176: {'score': 12.431612588700512,\n",
       "  'name': 'University of Alabama, Huntsville'},\n",
       " 177: {'score': 12.252857375006773, 'name': 'University of Idaho, Moscow'},\n",
       " 178: {'score': 12.122853583229508, 'name': 'Texas Tech University'},\n",
       " 179: {'score': 12.00368344076702, 'name': 'University of Tulsa'},\n",
       " 180: {'score': 11.559503818861383, 'name': 'University of Mississippi'},\n",
       " 181: {'score': 11.00157087915064, 'name': 'Brigham Young University'},\n",
       " 182: {'score': 9.977791018904728, 'name': 'Long Island University'},\n",
       " 183: {'score': 9.652781539461564,\n",
       "  'name': 'University of Southern Mississippi'},\n",
       " 184: {'score': 9.57694599425817,\n",
       "  'name': 'University of Colorado, Colorado Springs'},\n",
       " 185: {'score': 9.311521586046258, 'name': 'Colorado School of Mines'},\n",
       " 186: {'score': 9.27902063810194, 'name': 'Georgia State University'},\n",
       " 187: {'score': 8.244407128541248, 'name': 'University of Nevada, Las Vegas'},\n",
       " 188: {'score': 8.211906180596932, 'name': 'Kent State University'},\n",
       " 189: {'score': 7.339797410757819,\n",
       "  'name': 'Memorial University of Newfoundland'},\n",
       " 190: {'score': 7.090623476518067, 'name': 'Utah State University'},\n",
       " 191: {'score': 6.700612101186286, 'name': 'DePaul University'},\n",
       " 192: {'score': 5.855587454634095, 'name': 'North Dakota State University'},\n",
       " 193: {'score': 4.490547640972857, 'name': 'Nova Southeastern University'},\n",
       " 194: {'score': 4.409295271112082,\n",
       "  'name': 'University of Arkansas, Fayetteville'},\n",
       " 195: {'score': 4.393044797139924, 'name': 'University of Bridgeport'},\n",
       " 196: {'score': 4.181788635501868, 'name': 'University of Louisville'},\n",
       " 197: {'score': 3.7213585396240743, 'name': 'University of Nebraska, Omaha'},\n",
       " 198: {'score': 3.298846216347978, 'name': 'Florida Institute of Technology'},\n",
       " 199: {'score': 3.087590054709938,\n",
       "  'name': 'University of Arkansas, Little Rock'},\n",
       " 200: {'score': 2.795081523211092,\n",
       "  'name': 'Rochester Institute of Technology'},\n",
       " 201: {'score': 2.5350739396565767, 'name': 'Pace University'},\n",
       " 202: {'score': 2.4700720437679444,\n",
       "  'name': 'New Mexico Institute of Mining and Technology'},\n",
       " 203: {'score': 2.3671523752776147, 'name': 'University of Nevada, Reno'},\n",
       " 204: {'score': 0.0162504739721581,\n",
       "  'name': 'University of Alabama, Tuscaloosa'},\n",
       " 205: {'score': 0.0, 'name': 'University of North Texas, Denton'}}"
      ]
     },
     "execution_count": 5,
     "metadata": {},
     "output_type": "execute_result"
    }
   ],
   "source": [
    "# Get nodes attributes\n",
    "attrs = df_nodelist.set_index('u').to_dict(orient='index')\n",
    "attrs"
   ]
  },
  {
   "cell_type": "code",
   "execution_count": 6,
   "metadata": {},
   "outputs": [],
   "source": [
    "# Create directed graph\n",
    "G = nx.from_pandas_edgelist(df_edgelist, source='u', target='v',\n",
    "                            edge_attr='gender', create_using=nx.MultiDiGraph)\n",
    "\n",
    "# Add nodes attributes\n",
    "nx.set_node_attributes(G, attrs)"
   ]
  },
  {
   "cell_type": "code",
   "execution_count": 7,
   "metadata": {},
   "outputs": [
    {
     "data": {
      "text/plain": [
       "'MultiDiGraph with 205 nodes and 4388 edges'"
      ]
     },
     "execution_count": 7,
     "metadata": {},
     "output_type": "execute_result"
    }
   ],
   "source": [
    "# Show nodes and edges\n",
    "nx.info(G)"
   ]
  },
  {
   "cell_type": "markdown",
   "metadata": {},
   "source": [
    "#### Question 2"
   ]
  },
  {
   "cell_type": "code",
   "execution_count": 8,
   "metadata": {},
   "outputs": [
    {
     "data": {
      "text/plain": [
       "4388"
      ]
     },
     "execution_count": 8,
     "metadata": {},
     "output_type": "execute_result"
    }
   ],
   "source": [
    "# Number of persons\n",
    "N = G.number_of_edges()\n",
    "N"
   ]
  },
  {
   "cell_type": "code",
   "execution_count": 9,
   "metadata": {},
   "outputs": [
    {
     "data": {
      "text/html": [
       "<div>\n",
       "<style scoped>\n",
       "    .dataframe tbody tr th:only-of-type {\n",
       "        vertical-align: middle;\n",
       "    }\n",
       "\n",
       "    .dataframe tbody tr th {\n",
       "        vertical-align: top;\n",
       "    }\n",
       "\n",
       "    .dataframe thead th {\n",
       "        text-align: right;\n",
       "    }\n",
       "</style>\n",
       "<table border=\"1\" class=\"dataframe\">\n",
       "  <thead>\n",
       "    <tr style=\"text-align: right;\">\n",
       "      <th></th>\n",
       "      <th>u</th>\n",
       "      <th>v</th>\n",
       "      <th>gender</th>\n",
       "      <th>score</th>\n",
       "      <th>name</th>\n",
       "    </tr>\n",
       "  </thead>\n",
       "  <tbody>\n",
       "    <tr>\n",
       "      <th>0</th>\n",
       "      <td>1</td>\n",
       "      <td>1</td>\n",
       "      <td>F</td>\n",
       "      <td>100.00000</td>\n",
       "      <td>Stanford University</td>\n",
       "    </tr>\n",
       "    <tr>\n",
       "      <th>1</th>\n",
       "      <td>1</td>\n",
       "      <td>1</td>\n",
       "      <td>F</td>\n",
       "      <td>100.00000</td>\n",
       "      <td>Stanford University</td>\n",
       "    </tr>\n",
       "    <tr>\n",
       "      <th>2</th>\n",
       "      <td>1</td>\n",
       "      <td>1</td>\n",
       "      <td>F</td>\n",
       "      <td>100.00000</td>\n",
       "      <td>Stanford University</td>\n",
       "    </tr>\n",
       "    <tr>\n",
       "      <th>3</th>\n",
       "      <td>1</td>\n",
       "      <td>1</td>\n",
       "      <td>M</td>\n",
       "      <td>100.00000</td>\n",
       "      <td>Stanford University</td>\n",
       "    </tr>\n",
       "    <tr>\n",
       "      <th>4</th>\n",
       "      <td>1</td>\n",
       "      <td>1</td>\n",
       "      <td>M</td>\n",
       "      <td>100.00000</td>\n",
       "      <td>Stanford University</td>\n",
       "    </tr>\n",
       "    <tr>\n",
       "      <th>...</th>\n",
       "      <td>...</td>\n",
       "      <td>...</td>\n",
       "      <td>...</td>\n",
       "      <td>...</td>\n",
       "      <td>...</td>\n",
       "    </tr>\n",
       "    <tr>\n",
       "      <th>4383</th>\n",
       "      <td>139</td>\n",
       "      <td>172</td>\n",
       "      <td>M</td>\n",
       "      <td>15.55712</td>\n",
       "      <td>University of New Brunswick</td>\n",
       "    </tr>\n",
       "    <tr>\n",
       "      <th>4384</th>\n",
       "      <td>139</td>\n",
       "      <td>172</td>\n",
       "      <td>M</td>\n",
       "      <td>15.55712</td>\n",
       "      <td>University of New Brunswick</td>\n",
       "    </tr>\n",
       "    <tr>\n",
       "      <th>4385</th>\n",
       "      <td>172</td>\n",
       "      <td>172</td>\n",
       "      <td>M</td>\n",
       "      <td>15.55712</td>\n",
       "      <td>University of New Brunswick</td>\n",
       "    </tr>\n",
       "    <tr>\n",
       "      <th>4386</th>\n",
       "      <td>172</td>\n",
       "      <td>172</td>\n",
       "      <td>F</td>\n",
       "      <td>15.55712</td>\n",
       "      <td>University of New Brunswick</td>\n",
       "    </tr>\n",
       "    <tr>\n",
       "      <th>4387</th>\n",
       "      <td>172</td>\n",
       "      <td>172</td>\n",
       "      <td>M</td>\n",
       "      <td>15.55712</td>\n",
       "      <td>University of New Brunswick</td>\n",
       "    </tr>\n",
       "  </tbody>\n",
       "</table>\n",
       "<p>4388 rows × 5 columns</p>\n",
       "</div>"
      ],
      "text/plain": [
       "        u    v gender      score                         name\n",
       "0       1    1      F  100.00000          Stanford University\n",
       "1       1    1      F  100.00000          Stanford University\n",
       "2       1    1      F  100.00000          Stanford University\n",
       "3       1    1      M  100.00000          Stanford University\n",
       "4       1    1      M  100.00000          Stanford University\n",
       "...   ...  ...    ...        ...                          ...\n",
       "4383  139  172      M   15.55712  University of New Brunswick\n",
       "4384  139  172      M   15.55712  University of New Brunswick\n",
       "4385  172  172      M   15.55712  University of New Brunswick\n",
       "4386  172  172      F   15.55712  University of New Brunswick\n",
       "4387  172  172      M   15.55712  University of New Brunswick\n",
       "\n",
       "[4388 rows x 5 columns]"
      ]
     },
     "execution_count": 9,
     "metadata": {},
     "output_type": "execute_result"
    }
   ],
   "source": [
    "# Merge edges with target nodes\n",
    "df_target = df_edgelist.merge(df_nodelist, left_on='v', right_on='u').drop(\n",
    "    columns='u_y').rename(columns={'u_x': 'u'})\n",
    "df_target"
   ]
  },
  {
   "cell_type": "code",
   "execution_count": 10,
   "metadata": {},
   "outputs": [
    {
     "data": {
      "text/plain": [
       "name\n",
       "Carnegie Mellon University          116\n",
       "Georgia Tech                         77\n",
       "MIT                                  67\n",
       "University of Waterloo               63\n",
       "University of Michigan               53\n",
       "                                   ... \n",
       "University of Mississippi             5\n",
       "Catholic University of America        4\n",
       "Virginia Commonwealth University      4\n",
       "Claremont Graduate University         4\n",
       "CUNY Graduate Center                  2\n",
       "Length: 205, dtype: int64"
      ]
     },
     "execution_count": 10,
     "metadata": {},
     "output_type": "execute_result"
    }
   ],
   "source": [
    "# Group by university and count occurences\n",
    "university_target = df_target.groupby('name').size().sort_values(ascending=False)\n",
    "university_target"
   ]
  },
  {
   "cell_type": "code",
   "execution_count": 11,
   "metadata": {},
   "outputs": [
    {
     "data": {
      "text/plain": [
       "Text(0.5, 1.0, 'Fraction of all researchers hired by the $N$ universities that hire the most')"
      ]
     },
     "execution_count": 11,
     "metadata": {},
     "output_type": "execute_result"
    },
    {
     "data": {
      "image/png": "[encoded data removed]",
      "text/plain": [
       "<Figure size 432x288 with 1 Axes>"
      ]
     },
     "metadata": {
      "needs_background": "light"
     },
     "output_type": "display_data"
    }
   ],
   "source": [
    "plt.plot((university_target.cumsum() / N).values)\n",
    "plt.xlabel('Number of universities')\n",
    "plt.ylabel('Fraction of researchers')\n",
    "plt.title('Fraction of all researchers hired by the $N$ universities that hire the most')"
   ]
  },
  {
   "cell_type": "code",
   "execution_count": 12,
   "metadata": {},
   "outputs": [
    {
     "data": {
      "text/html": [
       "<div>\n",
       "<style scoped>\n",
       "    .dataframe tbody tr th:only-of-type {\n",
       "        vertical-align: middle;\n",
       "    }\n",
       "\n",
       "    .dataframe tbody tr th {\n",
       "        vertical-align: top;\n",
       "    }\n",
       "\n",
       "    .dataframe thead th {\n",
       "        text-align: right;\n",
       "    }\n",
       "</style>\n",
       "<table border=\"1\" class=\"dataframe\">\n",
       "  <thead>\n",
       "    <tr style=\"text-align: right;\">\n",
       "      <th></th>\n",
       "      <th>u</th>\n",
       "      <th>v</th>\n",
       "      <th>gender</th>\n",
       "      <th>score</th>\n",
       "      <th>name</th>\n",
       "    </tr>\n",
       "  </thead>\n",
       "  <tbody>\n",
       "    <tr>\n",
       "      <th>0</th>\n",
       "      <td>1</td>\n",
       "      <td>1</td>\n",
       "      <td>F</td>\n",
       "      <td>100.000000</td>\n",
       "      <td>Stanford University</td>\n",
       "    </tr>\n",
       "    <tr>\n",
       "      <th>1</th>\n",
       "      <td>1</td>\n",
       "      <td>1</td>\n",
       "      <td>F</td>\n",
       "      <td>100.000000</td>\n",
       "      <td>Stanford University</td>\n",
       "    </tr>\n",
       "    <tr>\n",
       "      <th>2</th>\n",
       "      <td>1</td>\n",
       "      <td>1</td>\n",
       "      <td>F</td>\n",
       "      <td>100.000000</td>\n",
       "      <td>Stanford University</td>\n",
       "    </tr>\n",
       "    <tr>\n",
       "      <th>3</th>\n",
       "      <td>1</td>\n",
       "      <td>1</td>\n",
       "      <td>M</td>\n",
       "      <td>100.000000</td>\n",
       "      <td>Stanford University</td>\n",
       "    </tr>\n",
       "    <tr>\n",
       "      <th>4</th>\n",
       "      <td>1</td>\n",
       "      <td>1</td>\n",
       "      <td>M</td>\n",
       "      <td>100.000000</td>\n",
       "      <td>Stanford University</td>\n",
       "    </tr>\n",
       "    <tr>\n",
       "      <th>...</th>\n",
       "      <td>...</td>\n",
       "      <td>...</td>\n",
       "      <td>...</td>\n",
       "      <td>...</td>\n",
       "      <td>...</td>\n",
       "    </tr>\n",
       "    <tr>\n",
       "      <th>4383</th>\n",
       "      <td>194</td>\n",
       "      <td>194</td>\n",
       "      <td>M</td>\n",
       "      <td>4.409295</td>\n",
       "      <td>University of Arkansas, Fayetteville</td>\n",
       "    </tr>\n",
       "    <tr>\n",
       "      <th>4384</th>\n",
       "      <td>198</td>\n",
       "      <td>198</td>\n",
       "      <td>M</td>\n",
       "      <td>3.298846</td>\n",
       "      <td>Florida Institute of Technology</td>\n",
       "    </tr>\n",
       "    <tr>\n",
       "      <th>4385</th>\n",
       "      <td>200</td>\n",
       "      <td>200</td>\n",
       "      <td>F</td>\n",
       "      <td>2.795082</td>\n",
       "      <td>Rochester Institute of Technology</td>\n",
       "    </tr>\n",
       "    <tr>\n",
       "      <th>4386</th>\n",
       "      <td>204</td>\n",
       "      <td>204</td>\n",
       "      <td>M</td>\n",
       "      <td>0.016250</td>\n",
       "      <td>University of Alabama, Tuscaloosa</td>\n",
       "    </tr>\n",
       "    <tr>\n",
       "      <th>4387</th>\n",
       "      <td>204</td>\n",
       "      <td>204</td>\n",
       "      <td>M</td>\n",
       "      <td>0.016250</td>\n",
       "      <td>University of Alabama, Tuscaloosa</td>\n",
       "    </tr>\n",
       "  </tbody>\n",
       "</table>\n",
       "<p>4388 rows × 5 columns</p>\n",
       "</div>"
      ],
      "text/plain": [
       "        u    v gender       score                                  name\n",
       "0       1    1      F  100.000000                   Stanford University\n",
       "1       1    1      F  100.000000                   Stanford University\n",
       "2       1    1      F  100.000000                   Stanford University\n",
       "3       1    1      M  100.000000                   Stanford University\n",
       "4       1    1      M  100.000000                   Stanford University\n",
       "...   ...  ...    ...         ...                                   ...\n",
       "4383  194  194      M    4.409295  University of Arkansas, Fayetteville\n",
       "4384  198  198      M    3.298846       Florida Institute of Technology\n",
       "4385  200  200      F    2.795082     Rochester Institute of Technology\n",
       "4386  204  204      M    0.016250     University of Alabama, Tuscaloosa\n",
       "4387  204  204      M    0.016250     University of Alabama, Tuscaloosa\n",
       "\n",
       "[4388 rows x 5 columns]"
      ]
     },
     "execution_count": 12,
     "metadata": {},
     "output_type": "execute_result"
    }
   ],
   "source": [
    "# Merge edges with source nodes\n",
    "df_source = df_edgelist.merge(df_nodelist, on='u')\n",
    "df_source"
   ]
  },
  {
   "cell_type": "code",
   "execution_count": 13,
   "metadata": {},
   "outputs": [
    {
     "data": {
      "text/plain": [
       "name\n",
       "MIT                                         299\n",
       "UC Berkeley                                 204\n",
       "Stanford University                         189\n",
       "Carnegie Mellon University                  166\n",
       "University of Illinois, Urbana Champaign    164\n",
       "                                           ... \n",
       "University of Mississippi                     1\n",
       "University of Miami                           1\n",
       "University of Memphis                         1\n",
       "University of Maine                           1\n",
       "North Dakota State University                 1\n",
       "Length: 185, dtype: int64"
      ]
     },
     "execution_count": 13,
     "metadata": {},
     "output_type": "execute_result"
    }
   ],
   "source": [
    "# Group by university and count occurences\n",
    "university_source = df_source.groupby('name').size().sort_values(ascending=False)\n",
    "university_source"
   ]
  },
  {
   "cell_type": "code",
   "execution_count": 14,
   "metadata": {},
   "outputs": [
    {
     "data": {
      "text/plain": [
       "Text(0.5, 1.0, 'Fraction of all researchers trained by the $N$ universities whose students get hired the most')"
      ]
     },
     "execution_count": 14,
     "metadata": {},
     "output_type": "execute_result"
    },
    {
     "data": {
      "image/png": "[encoded data removed]",
      "text/plain": [
       "<Figure size 432x288 with 1 Axes>"
      ]
     },
     "metadata": {
      "needs_background": "light"
     },
     "output_type": "display_data"
    }
   ],
   "source": [
    "plt.plot((university_source.cumsum() / N).values)\n",
    "plt.xlabel('Number of universities')\n",
    "plt.ylabel('Fraction of researchers')\n",
    "plt.title('Fraction of all researchers trained by the $N$ universities whose students get hired the most')"
   ]
  },
  {
   "cell_type": "markdown",
   "metadata": {},
   "source": [
    "#### Question 3\n",
    "\n",
    "The plots illustrate the in-degree and out-degree centrality because it shows the importance of universities, represented as nodes, in the graph. The hiring corresponds to the in-degree, and the training corresponds to the out-degree."
   ]
  },
  {
   "cell_type": "markdown",
   "metadata": {},
   "source": [
    "#### Question 4"
   ]
  },
  {
   "cell_type": "code",
   "execution_count": 15,
   "metadata": {},
   "outputs": [
    {
     "data": {
      "text/html": [
       "<div>\n",
       "<style scoped>\n",
       "    .dataframe tbody tr th:only-of-type {\n",
       "        vertical-align: middle;\n",
       "    }\n",
       "\n",
       "    .dataframe tbody tr th {\n",
       "        vertical-align: top;\n",
       "    }\n",
       "\n",
       "    .dataframe thead th {\n",
       "        text-align: right;\n",
       "    }\n",
       "</style>\n",
       "<table border=\"1\" class=\"dataframe\">\n",
       "  <thead>\n",
       "    <tr style=\"text-align: right;\">\n",
       "      <th></th>\n",
       "      <th>u</th>\n",
       "      <th>score</th>\n",
       "      <th>name</th>\n",
       "      <th>pagerank</th>\n",
       "    </tr>\n",
       "  </thead>\n",
       "  <tbody>\n",
       "    <tr>\n",
       "      <th>0</th>\n",
       "      <td>1</td>\n",
       "      <td>100.000000</td>\n",
       "      <td>Stanford University</td>\n",
       "      <td>0.001795</td>\n",
       "    </tr>\n",
       "    <tr>\n",
       "      <th>1</th>\n",
       "      <td>2</td>\n",
       "      <td>99.956665</td>\n",
       "      <td>UC Berkeley</td>\n",
       "      <td>0.001772</td>\n",
       "    </tr>\n",
       "    <tr>\n",
       "      <th>2</th>\n",
       "      <td>3</td>\n",
       "      <td>99.301230</td>\n",
       "      <td>MIT</td>\n",
       "      <td>0.001738</td>\n",
       "    </tr>\n",
       "    <tr>\n",
       "      <th>3</th>\n",
       "      <td>4</td>\n",
       "      <td>98.369536</td>\n",
       "      <td>California Institute of Technology</td>\n",
       "      <td>0.001329</td>\n",
       "    </tr>\n",
       "    <tr>\n",
       "      <th>4</th>\n",
       "      <td>5</td>\n",
       "      <td>97.892855</td>\n",
       "      <td>Harvard University</td>\n",
       "      <td>0.001381</td>\n",
       "    </tr>\n",
       "    <tr>\n",
       "      <th>...</th>\n",
       "      <td>...</td>\n",
       "      <td>...</td>\n",
       "      <td>...</td>\n",
       "      <td>...</td>\n",
       "    </tr>\n",
       "    <tr>\n",
       "      <th>200</th>\n",
       "      <td>201</td>\n",
       "      <td>2.535074</td>\n",
       "      <td>Pace University</td>\n",
       "      <td>0.008257</td>\n",
       "    </tr>\n",
       "    <tr>\n",
       "      <th>201</th>\n",
       "      <td>202</td>\n",
       "      <td>2.470072</td>\n",
       "      <td>New Mexico Institute of Mining and Technology</td>\n",
       "      <td>0.005368</td>\n",
       "    </tr>\n",
       "    <tr>\n",
       "      <th>202</th>\n",
       "      <td>203</td>\n",
       "      <td>2.367152</td>\n",
       "      <td>University of Nevada, Reno</td>\n",
       "      <td>0.005291</td>\n",
       "    </tr>\n",
       "    <tr>\n",
       "      <th>203</th>\n",
       "      <td>204</td>\n",
       "      <td>0.016250</td>\n",
       "      <td>University of Alabama, Tuscaloosa</td>\n",
       "      <td>0.056965</td>\n",
       "    </tr>\n",
       "    <tr>\n",
       "      <th>204</th>\n",
       "      <td>205</td>\n",
       "      <td>0.000000</td>\n",
       "      <td>University of North Texas, Denton</td>\n",
       "      <td>0.009388</td>\n",
       "    </tr>\n",
       "  </tbody>\n",
       "</table>\n",
       "<p>205 rows × 4 columns</p>\n",
       "</div>"
      ],
      "text/plain": [
       "       u       score                                           name  pagerank\n",
       "0      1  100.000000                            Stanford University  0.001795\n",
       "1      2   99.956665                                    UC Berkeley  0.001772\n",
       "2      3   99.301230                                            MIT  0.001738\n",
       "3      4   98.369536             California Institute of Technology  0.001329\n",
       "4      5   97.892855                             Harvard University  0.001381\n",
       "..   ...         ...                                            ...       ...\n",
       "200  201    2.535074                                Pace University  0.008257\n",
       "201  202    2.470072  New Mexico Institute of Mining and Technology  0.005368\n",
       "202  203    2.367152                     University of Nevada, Reno  0.005291\n",
       "203  204    0.016250              University of Alabama, Tuscaloosa  0.056965\n",
       "204  205    0.000000              University of North Texas, Denton  0.009388\n",
       "\n",
       "[205 rows x 4 columns]"
      ]
     },
     "execution_count": 15,
     "metadata": {},
     "output_type": "execute_result"
    }
   ],
   "source": [
    "# Get pagerank centrality\n",
    "df_pagerank = pd.DataFrame.from_dict(nx.pagerank(G), orient='index', columns=['pagerank'])\n",
    "\n",
    "# Merge with node list\n",
    "df_nodes_merged = df_nodelist.merge(df_pagerank, left_on='u', right_index=True)\n",
    "df_nodes_merged"
   ]
  },
  {
   "cell_type": "code",
   "execution_count": 16,
   "metadata": {},
   "outputs": [
    {
     "data": {
      "text/plain": [
       "(-0.44113316388661317, 3.5890796110736994e-11)"
      ]
     },
     "execution_count": 16,
     "metadata": {},
     "output_type": "execute_result"
    }
   ],
   "source": [
    "# Tests non-correlation\n",
    "stats.pearsonr(df_nodes_merged['score'], df_nodes_merged['pagerank'])"
   ]
  },
  {
   "cell_type": "markdown",
   "metadata": {},
   "source": [
    "The p-value is lesser than 5% and the correlation coefficient is negative. Thus, PageRank centrality is negatively correlated with university score. The answer is **False**."
   ]
  },
  {
   "cell_type": "markdown",
   "metadata": {},
   "source": [
    "### Task 2 — (15 points)\n",
    "\n",
    "Each hiring decision $(u,v)$ connects two different universities with different scores.\n",
    "\n",
    "1. Divide the universities into quintiles according to their scores ($Q_1$ to $Q_5$, where $Q_5$ contains the highest-ranked universities, i.e., those with the highest scores). Create a succinct plot that captures, for each pair of quintiles ($Q_i$, $Q_j$), what fraction of people in the dataset who got their Ph.D. from a university in $Q_i$ were hired by a university in $Q_j$.\n",
    "\n",
    "\n",
    "2. **/Multiple choice:/** What does the plot made in the previous subtask reveal about the faculty hiring process? Select one of the following options and justify your answer.\n",
    "    1. Ph.D. graduates who are hired as professors usually go to universities that are better than the universities where they were trained.\n",
    "    2. Ph.D. graduates who are hired as professors usually go to universities that are around the same or worse than the universities where they were trained.\n",
    "\n",
    "3. **/True or false:/** Let $E$ be the set of edges from the hiring network, and let $X$ be defined as follows:\n",
    "$$X = \\frac{|(u,v) \\in E : u \\in Q_1 \\text{ and } v \\in Q_5 |}{{|(u,v) \\in E : u \\in Q_1|}}$$\n",
    " *Thinking critically about the data that was given to you,* is the following statement **true** or **false**? Justify your answer. **\"If I get my Ph.D. in a 1st-quintile university, I have a chance of around X * 100%  of getting a job in a 5th-quintile university.\"**\n",
    "\n",
    "\n",
    "---\n",
    "**Hints:**\n",
    "- [pandas.qcut](https://pandas.pydata.org/docs/reference/api/pandas.qcut.html) makes splitting data into quantiles easy!\n"
   ]
  },
  {
   "cell_type": "markdown",
   "metadata": {},
   "source": [
    "#### Question 1"
   ]
  },
  {
   "cell_type": "code",
   "execution_count": 17,
   "metadata": {},
   "outputs": [
    {
     "data": {
      "text/html": [
       "<div>\n",
       "<style scoped>\n",
       "    .dataframe tbody tr th:only-of-type {\n",
       "        vertical-align: middle;\n",
       "    }\n",
       "\n",
       "    .dataframe tbody tr th {\n",
       "        vertical-align: top;\n",
       "    }\n",
       "\n",
       "    .dataframe thead th {\n",
       "        text-align: right;\n",
       "    }\n",
       "</style>\n",
       "<table border=\"1\" class=\"dataframe\">\n",
       "  <thead>\n",
       "    <tr style=\"text-align: right;\">\n",
       "      <th></th>\n",
       "      <th>u</th>\n",
       "      <th>score</th>\n",
       "      <th>name</th>\n",
       "    </tr>\n",
       "  </thead>\n",
       "  <tbody>\n",
       "    <tr>\n",
       "      <th>204</th>\n",
       "      <td>205</td>\n",
       "      <td>0.000000</td>\n",
       "      <td>University of North Texas, Denton</td>\n",
       "    </tr>\n",
       "    <tr>\n",
       "      <th>203</th>\n",
       "      <td>204</td>\n",
       "      <td>0.016250</td>\n",
       "      <td>University of Alabama, Tuscaloosa</td>\n",
       "    </tr>\n",
       "    <tr>\n",
       "      <th>202</th>\n",
       "      <td>203</td>\n",
       "      <td>2.367152</td>\n",
       "      <td>University of Nevada, Reno</td>\n",
       "    </tr>\n",
       "    <tr>\n",
       "      <th>201</th>\n",
       "      <td>202</td>\n",
       "      <td>2.470072</td>\n",
       "      <td>New Mexico Institute of Mining and Technology</td>\n",
       "    </tr>\n",
       "    <tr>\n",
       "      <th>200</th>\n",
       "      <td>201</td>\n",
       "      <td>2.535074</td>\n",
       "      <td>Pace University</td>\n",
       "    </tr>\n",
       "    <tr>\n",
       "      <th>...</th>\n",
       "      <td>...</td>\n",
       "      <td>...</td>\n",
       "      <td>...</td>\n",
       "    </tr>\n",
       "    <tr>\n",
       "      <th>4</th>\n",
       "      <td>5</td>\n",
       "      <td>97.892855</td>\n",
       "      <td>Harvard University</td>\n",
       "    </tr>\n",
       "    <tr>\n",
       "      <th>3</th>\n",
       "      <td>4</td>\n",
       "      <td>98.369536</td>\n",
       "      <td>California Institute of Technology</td>\n",
       "    </tr>\n",
       "    <tr>\n",
       "      <th>2</th>\n",
       "      <td>3</td>\n",
       "      <td>99.301230</td>\n",
       "      <td>MIT</td>\n",
       "    </tr>\n",
       "    <tr>\n",
       "      <th>1</th>\n",
       "      <td>2</td>\n",
       "      <td>99.956665</td>\n",
       "      <td>UC Berkeley</td>\n",
       "    </tr>\n",
       "    <tr>\n",
       "      <th>0</th>\n",
       "      <td>1</td>\n",
       "      <td>100.000000</td>\n",
       "      <td>Stanford University</td>\n",
       "    </tr>\n",
       "  </tbody>\n",
       "</table>\n",
       "<p>205 rows × 3 columns</p>\n",
       "</div>"
      ],
      "text/plain": [
       "       u       score                                           name\n",
       "204  205    0.000000              University of North Texas, Denton\n",
       "203  204    0.016250              University of Alabama, Tuscaloosa\n",
       "202  203    2.367152                     University of Nevada, Reno\n",
       "201  202    2.470072  New Mexico Institute of Mining and Technology\n",
       "200  201    2.535074                                Pace University\n",
       "..   ...         ...                                            ...\n",
       "4      5   97.892855                             Harvard University\n",
       "3      4   98.369536             California Institute of Technology\n",
       "2      3   99.301230                                            MIT\n",
       "1      2   99.956665                                    UC Berkeley\n",
       "0      1  100.000000                            Stanford University\n",
       "\n",
       "[205 rows x 3 columns]"
      ]
     },
     "execution_count": 17,
     "metadata": {},
     "output_type": "execute_result"
    }
   ],
   "source": [
    "# Sort dataframe by score\n",
    "df_nodelist.sort_values('score', inplace=True)\n",
    "df_nodelist"
   ]
  },
  {
   "cell_type": "code",
   "execution_count": 18,
   "metadata": {
    "pycharm": {
     "name": "#%%\n"
    }
   },
   "outputs": [
    {
     "data": {
      "text/html": [
       "<div>\n",
       "<style scoped>\n",
       "    .dataframe tbody tr th:only-of-type {\n",
       "        vertical-align: middle;\n",
       "    }\n",
       "\n",
       "    .dataframe tbody tr th {\n",
       "        vertical-align: top;\n",
       "    }\n",
       "\n",
       "    .dataframe thead th {\n",
       "        text-align: right;\n",
       "    }\n",
       "</style>\n",
       "<table border=\"1\" class=\"dataframe\">\n",
       "  <thead>\n",
       "    <tr style=\"text-align: right;\">\n",
       "      <th></th>\n",
       "      <th>u</th>\n",
       "      <th>score</th>\n",
       "      <th>name</th>\n",
       "      <th>quintile</th>\n",
       "    </tr>\n",
       "  </thead>\n",
       "  <tbody>\n",
       "    <tr>\n",
       "      <th>204</th>\n",
       "      <td>205</td>\n",
       "      <td>0.000000</td>\n",
       "      <td>University of North Texas, Denton</td>\n",
       "      <td>0</td>\n",
       "    </tr>\n",
       "    <tr>\n",
       "      <th>203</th>\n",
       "      <td>204</td>\n",
       "      <td>0.016250</td>\n",
       "      <td>University of Alabama, Tuscaloosa</td>\n",
       "      <td>0</td>\n",
       "    </tr>\n",
       "    <tr>\n",
       "      <th>202</th>\n",
       "      <td>203</td>\n",
       "      <td>2.367152</td>\n",
       "      <td>University of Nevada, Reno</td>\n",
       "      <td>0</td>\n",
       "    </tr>\n",
       "    <tr>\n",
       "      <th>201</th>\n",
       "      <td>202</td>\n",
       "      <td>2.470072</td>\n",
       "      <td>New Mexico Institute of Mining and Technology</td>\n",
       "      <td>0</td>\n",
       "    </tr>\n",
       "    <tr>\n",
       "      <th>200</th>\n",
       "      <td>201</td>\n",
       "      <td>2.535074</td>\n",
       "      <td>Pace University</td>\n",
       "      <td>0</td>\n",
       "    </tr>\n",
       "    <tr>\n",
       "      <th>...</th>\n",
       "      <td>...</td>\n",
       "      <td>...</td>\n",
       "      <td>...</td>\n",
       "      <td>...</td>\n",
       "    </tr>\n",
       "    <tr>\n",
       "      <th>4</th>\n",
       "      <td>5</td>\n",
       "      <td>97.892855</td>\n",
       "      <td>Harvard University</td>\n",
       "      <td>4</td>\n",
       "    </tr>\n",
       "    <tr>\n",
       "      <th>3</th>\n",
       "      <td>4</td>\n",
       "      <td>98.369536</td>\n",
       "      <td>California Institute of Technology</td>\n",
       "      <td>4</td>\n",
       "    </tr>\n",
       "    <tr>\n",
       "      <th>2</th>\n",
       "      <td>3</td>\n",
       "      <td>99.301230</td>\n",
       "      <td>MIT</td>\n",
       "      <td>4</td>\n",
       "    </tr>\n",
       "    <tr>\n",
       "      <th>1</th>\n",
       "      <td>2</td>\n",
       "      <td>99.956665</td>\n",
       "      <td>UC Berkeley</td>\n",
       "      <td>4</td>\n",
       "    </tr>\n",
       "    <tr>\n",
       "      <th>0</th>\n",
       "      <td>1</td>\n",
       "      <td>100.000000</td>\n",
       "      <td>Stanford University</td>\n",
       "      <td>4</td>\n",
       "    </tr>\n",
       "  </tbody>\n",
       "</table>\n",
       "<p>205 rows × 4 columns</p>\n",
       "</div>"
      ],
      "text/plain": [
       "       u       score                                           name  quintile\n",
       "204  205    0.000000              University of North Texas, Denton         0\n",
       "203  204    0.016250              University of Alabama, Tuscaloosa         0\n",
       "202  203    2.367152                     University of Nevada, Reno         0\n",
       "201  202    2.470072  New Mexico Institute of Mining and Technology         0\n",
       "200  201    2.535074                                Pace University         0\n",
       "..   ...         ...                                            ...       ...\n",
       "4      5   97.892855                             Harvard University         4\n",
       "3      4   98.369536             California Institute of Technology         4\n",
       "2      3   99.301230                                            MIT         4\n",
       "1      2   99.956665                                    UC Berkeley         4\n",
       "0      1  100.000000                            Stanford University         4\n",
       "\n",
       "[205 rows x 4 columns]"
      ]
     },
     "execution_count": 18,
     "metadata": {},
     "output_type": "execute_result"
    }
   ],
   "source": [
    "# Devide universities into quintiles\n",
    "df_nodelist['quintile'] = pd.qcut(df_nodelist['score'], q=5, labels=False)\n",
    "df_nodelist"
   ]
  },
  {
   "cell_type": "code",
   "execution_count": 43,
   "metadata": {},
   "outputs": [
    {
     "data": {
      "text/plain": [
       "Text(0.5, 1.0, 'Fraction of peoplegot their Ph.D. from a university in $Q_i$ were hired by a university in $Q_j$')"
      ]
     },
     "execution_count": 43,
     "metadata": {},
     "output_type": "execute_result"
    },
    {
     "data": {
      "image/png": "[encoded data removed]",
      "text/plain": [
       "<Figure size 432x288 with 2 Axes>"
      ]
     },
     "metadata": {
      "needs_background": "light"
     },
     "output_type": "display_data"
    }
   ],
   "source": [
    "# Fractions of people\n",
    "data_heatmap = np.zeros((5, 5), dtype=int)\n",
    "for i in range(5):\n",
    "    source_universities = df_nodelist[df_nodelist['quintile'] == i].u.values\n",
    "    for j in range(5):\n",
    "        target_universities = df_nodelist[df_nodelist['quintile'] == j].u.values\n",
    "        data_heatmap[i, j] = len(df_edgelist[\n",
    "            df_edgelist.u.isin(source_universities) & df_edgelist.v.isin(target_universities)])\n",
    "\n",
    "# Heatmap\n",
    "sns.heatmap(data_heatmap, annot=True)\n",
    "plt.xlabel('$Q_i$')\n",
    "plt.ylabel('$Q_j$')\n",
    "plt.title('Fraction of peoplegot their Ph.D. from a university in $Q_i$ were hired by a university in $Q_j$')"
   ]
  },
  {
   "cell_type": "markdown",
   "metadata": {},
   "source": [
    "#### Question 2\n",
    "\n",
    "We can say that Ph.D. graduates who are hired as professors usually go to universities that are better than the universities where they were trained."
   ]
  },
  {
   "cell_type": "markdown",
   "metadata": {},
   "source": [
    "### Task 3 — (25 points)\n",
    "\n",
    "Let the \"source university\" of a person be the university at which the person got their Ph.D., and let their \"target university\" be the university at which they were hired after their Ph.D.\n",
    "\n",
    "\n",
    "1. For each hiring decision $(u, v)$, let the score gain ($d$) be defined as the difference between the scores of the target university and the source university (target university score minus source university score; see hint for example). Calculate the average difference for men ($\\bar{d_{M}}$) and for women ($\\bar{d_{F}}$) in the dataset. Determine whether the difference between these two averages ($\\bar{d_{M}}$ and $\\bar{d_{F}}$) is statistically significant.\n",
    "\n",
    "2. **/True or false:/** Is the following statement **true** or **false**? Justify your answer. **\"The results you obtained in Task 3.1 do not refute the hypothesis that women are disadvantaged in the faculty hiring process.\"**\n",
    "\n",
    "3. For each quintile $Q$ from Task 2.1, calculate the following: **(a)** the percentage of women among hiring decisions $(u, v)$ with $u \\in Q$ ; and **b)** the average score gain for hiring decisions $(u, v)$ with $u \\in Q$.\n",
    "\n",
    "4. **/Discuss:/** Considering the results obtained in Task 3.3, why is comparing the average score gain for men ($\\bar{d_{M}}$) and women ($\\bar{d_{F}}$) insufficient for determining the causal effect of gender on score gain?\n",
    "\n",
    "5. Use `statsmodels` to run a linear regression where hiring decisions (edges of the hiring network) are the data points, gender and source-university score are the predictors, and score gain is the outcome. Report the summary of your model.\n",
    "\n",
    "6. **/True or false:/** Considering the following statement, answer **true** or **false** and justify your answer. **\"The results you obtained in Task 3.5 suggest that academic hiring decisions are unfair to women.\"**\n",
    "\n",
    "---\n",
    "**Hint** — The university with the best score is Stanford University (score 100), and the university with the 10th best score is the University of Washington (score 95.26). If someone was trained at Stanford and then got a job at the University of Washington, their score gain is $95.26 - 100 = -4.74$."
   ]
  },
  {
   "cell_type": "markdown",
   "metadata": {},
   "source": [
    "#### Question 1"
   ]
  },
  {
   "cell_type": "code",
   "execution_count": 45,
   "metadata": {
    "pycharm": {
     "name": "#%%\n"
    }
   },
   "outputs": [
    {
     "data": {
      "text/html": [
       "<div>\n",
       "<style scoped>\n",
       "    .dataframe tbody tr th:only-of-type {\n",
       "        vertical-align: middle;\n",
       "    }\n",
       "\n",
       "    .dataframe tbody tr th {\n",
       "        vertical-align: top;\n",
       "    }\n",
       "\n",
       "    .dataframe thead th {\n",
       "        text-align: right;\n",
       "    }\n",
       "</style>\n",
       "<table border=\"1\" class=\"dataframe\">\n",
       "  <thead>\n",
       "    <tr style=\"text-align: right;\">\n",
       "      <th></th>\n",
       "      <th>u</th>\n",
       "      <th>v</th>\n",
       "      <th>gender</th>\n",
       "      <th>gain</th>\n",
       "    </tr>\n",
       "  </thead>\n",
       "  <tbody>\n",
       "    <tr>\n",
       "      <th>0</th>\n",
       "      <td>1</td>\n",
       "      <td>1</td>\n",
       "      <td>F</td>\n",
       "      <td>0.000000</td>\n",
       "    </tr>\n",
       "    <tr>\n",
       "      <th>1</th>\n",
       "      <td>1</td>\n",
       "      <td>1</td>\n",
       "      <td>F</td>\n",
       "      <td>0.000000</td>\n",
       "    </tr>\n",
       "    <tr>\n",
       "      <th>2</th>\n",
       "      <td>1</td>\n",
       "      <td>1</td>\n",
       "      <td>F</td>\n",
       "      <td>0.000000</td>\n",
       "    </tr>\n",
       "    <tr>\n",
       "      <th>3</th>\n",
       "      <td>1</td>\n",
       "      <td>1</td>\n",
       "      <td>M</td>\n",
       "      <td>0.000000</td>\n",
       "    </tr>\n",
       "    <tr>\n",
       "      <th>4</th>\n",
       "      <td>1</td>\n",
       "      <td>1</td>\n",
       "      <td>M</td>\n",
       "      <td>0.000000</td>\n",
       "    </tr>\n",
       "    <tr>\n",
       "      <th>...</th>\n",
       "      <td>...</td>\n",
       "      <td>...</td>\n",
       "      <td>...</td>\n",
       "      <td>...</td>\n",
       "    </tr>\n",
       "    <tr>\n",
       "      <th>4383</th>\n",
       "      <td>194</td>\n",
       "      <td>194</td>\n",
       "      <td>M</td>\n",
       "      <td>11.147825</td>\n",
       "    </tr>\n",
       "    <tr>\n",
       "      <th>4384</th>\n",
       "      <td>198</td>\n",
       "      <td>198</td>\n",
       "      <td>M</td>\n",
       "      <td>12.258274</td>\n",
       "    </tr>\n",
       "    <tr>\n",
       "      <th>4385</th>\n",
       "      <td>200</td>\n",
       "      <td>200</td>\n",
       "      <td>F</td>\n",
       "      <td>12.762039</td>\n",
       "    </tr>\n",
       "    <tr>\n",
       "      <th>4386</th>\n",
       "      <td>204</td>\n",
       "      <td>204</td>\n",
       "      <td>M</td>\n",
       "      <td>15.540870</td>\n",
       "    </tr>\n",
       "    <tr>\n",
       "      <th>4387</th>\n",
       "      <td>204</td>\n",
       "      <td>204</td>\n",
       "      <td>M</td>\n",
       "      <td>15.540870</td>\n",
       "    </tr>\n",
       "  </tbody>\n",
       "</table>\n",
       "<p>4388 rows × 4 columns</p>\n",
       "</div>"
      ],
      "text/plain": [
       "        u    v gender       gain\n",
       "0       1    1      F   0.000000\n",
       "1       1    1      F   0.000000\n",
       "2       1    1      F   0.000000\n",
       "3       1    1      M   0.000000\n",
       "4       1    1      M   0.000000\n",
       "...   ...  ...    ...        ...\n",
       "4383  194  194      M  11.147825\n",
       "4384  198  198      M  12.258274\n",
       "4385  200  200      F  12.762039\n",
       "4386  204  204      M  15.540870\n",
       "4387  204  204      M  15.540870\n",
       "\n",
       "[4388 rows x 4 columns]"
      ]
     },
     "execution_count": 45,
     "metadata": {},
     "output_type": "execute_result"
    }
   ],
   "source": [
    "# Score difference\n",
    "df_edgelist['gain'] = df_target.score - df_source.score\n",
    "df_edgelist"
   ]
  },
  {
   "cell_type": "code",
   "execution_count": 46,
   "metadata": {},
   "outputs": [],
   "source": [
    "# Get gains for men and women\n",
    "df_edgelist_men = df_edgelist[df_edgelist['gender'] == 'M']\n",
    "df_edgelist_women = df_edgelist[df_edgelist['gender'] == 'F']"
   ]
  },
  {
   "cell_type": "code",
   "execution_count": 48,
   "metadata": {},
   "outputs": [
    {
     "data": {
      "text/plain": [
       "count    2379.000000\n",
       "mean      -24.147840\n",
       "std        19.903043\n",
       "min       -73.852987\n",
       "25%       -38.047776\n",
       "50%       -20.486431\n",
       "75%        -8.244407\n",
       "max        30.686312\n",
       "Name: gain, dtype: float64"
      ]
     },
     "execution_count": 48,
     "metadata": {},
     "output_type": "execute_result"
    }
   ],
   "source": [
    "# Average for men\n",
    "df_edgelist_men.gain.describe()"
   ]
  },
  {
   "cell_type": "code",
   "execution_count": 49,
   "metadata": {},
   "outputs": [
    {
     "data": {
      "text/plain": [
       "count    2009.000000\n",
       "mean      -24.144915\n",
       "std        19.309501\n",
       "min       -73.435892\n",
       "25%       -36.823574\n",
       "50%       -18.682628\n",
       "75%        -8.287742\n",
       "max        24.565300\n",
       "Name: gain, dtype: float64"
      ]
     },
     "execution_count": 49,
     "metadata": {},
     "output_type": "execute_result"
    }
   ],
   "source": [
    "# Average for women\n",
    "df_edgelist_women.gain.describe()"
   ]
  },
  {
   "cell_type": "code",
   "execution_count": 50,
   "metadata": {},
   "outputs": [
    {
     "data": {
      "text/plain": [
       "Ttest_indResult(statistic=-0.004917039435995291, pvalue=0.9960770095765794)"
      ]
     },
     "execution_count": 50,
     "metadata": {},
     "output_type": "execute_result"
    }
   ],
   "source": [
    "# T-test for the means\n",
    "stats.ttest_ind(df_edgelist_men.gain, df_edgelist_women.gain)"
   ]
  },
  {
   "cell_type": "markdown",
   "metadata": {},
   "source": [
    "The p-value is higher than 5% so we keep the null hypothesis and can say that the difference is not statistically significant."
   ]
  },
  {
   "cell_type": "markdown",
   "metadata": {},
   "source": [
    "#### Question 2\n",
    "\n",
    "Since there is no significant difference between the means, we can say the results do not show that women are disadvantaged in the faculty hiring process. The answer is **True**."
   ]
  },
  {
   "cell_type": "markdown",
   "metadata": {},
   "source": [
    "## Part 2 — Tennis interviews\n",
    "\n",
    "For the second part of the exam, you will work with text data extracted from questions asked during post-match tennis interviews and from\n",
    "TV commentary done during the tennis match.\n",
    "\n",
    "\n",
    "Examples of interview questions:\n",
    "\n",
    "> That last set seemed like a faultless performance. Is that the way you saw it?\n",
    "\n",
    "> How disappointing is that loss for you?\n",
    "\n",
    "> As a spectator, would you rather watch a guy with big aces or a match with lots of rallies?\n",
    "\n",
    "Example of commentary text:\n",
    "\n",
    ">  Serena is desperate to shake herself into action. She lets out an almighty shriek when she goes 30-15 up, but Azarenka responds with a brilliant forehand. The level of Williams' scream goes up and up during the next point, and she lets out another roar when she belts a forehand cross court win the point. She wraps the game up next time round, and she looked something like back to her best there!\n",
    "\n",
    "\n",
    "## Files (in the `data` folder)\n",
    "\n",
    "- `questions.tsv.gz` a tab-separated compressed file containing interview questions\n",
    "and some metadata. We refer to this dataset as the \"questions dataset.\"\n",
    "Each row contains a question made to a specific player after a match.\n",
    "The file has the following columns:\n",
    "    - `questions` — the text of the question asked; **Note that you will never be asked to use this row; it is merely meant to help you understand the data better**.\n",
    "    - `gender` — the gender of the player;\n",
    "    - `ranking` — the ranking of the player at the time;\n",
    "    - `similarity` — this column will be explained later in the exam.\n",
    "\n",
    "- `commentary.tsv.gz` a tab-separated compressed file containing TV commentary done during\n",
    "the tennis match. We refer to this dataset as the \"commentary dataset.\" Each line contains\n",
    "a piece of commentary done in a tennis match.\n",
    "The file has the following columns:\n",
    "    - `commentary` — the text of the commentary; **Note that you will never be asked to use this row; it is merely meant to help you understand the data better**.\n",
    "    - `gender` — the gender of the players in the match;\n",
    "\n",
    "- `TFIDF.npz`, a file containing 2D numpy arrays saved in the `.npz` format that\n",
    "will be used in Task 4.\n",
    "\n",
    "Both datasets are **balanced regarding gender,** i.e., they have the same number of rows about men as about women.\n",
    "\n",
    "\n",
    "Commentary text, as well as interview questions, have been preprocessed to make your life easier, as follows:\n",
    "\n",
    "- We replaced all words starting with upper-case letters with the special string `'--ENT--'`. This was done to remove personal names (e.g., Alice, Bob), which could help predict whether the text is associated with a male or a female tennis player.\n",
    "- We removed the first word in each sentence. This was done because, for the first word of each sentence, it is difficult to know whether it is a personal name or simply a regular word.\n",
    "- We replaced all gendered pronouns in the text (he/him/his and she/her/hers) with the special string `'--PRON--'`. This, too, was done because these words would make it easy to predict whether the text is associated with a male or a female tennis player.\n",
    "- We removed punctuation and stop words (to reduce the dimensionality of the data).\n",
    "\n",
    "The above example commentary text thus appears as follows in the data provided to you:\n",
    "\n",
    "> desperate shake action lets almighty shriek --PRON-- goes 30 15 --ENT-- responds brilliant forehand level --ENT-- scream goes point --PRON-- lets roar --PRON-- belts forehand cross court win point wraps game time round --PRON-- looked like --PRON-- best\n",
    "\n",
    "We also provide some code for loading and displaying the dataset:"
   ]
  },
  {
   "cell_type": "code",
   "execution_count": 19,
   "metadata": {
    "pycharm": {
     "name": "#%%\n"
    }
   },
   "outputs": [],
   "source": [
    "# Part 2\n",
    "df_questions = pd.read_csv(\"./data/part-2/questions.tsv.gz\", sep=\"\\t\", compression=\"infer\")\n",
    "df_commentary = pd.read_csv(\"./data/part-2/commentary.tsv.gz\", sep=\"\\t\", compression=\"infer\")"
   ]
  },
  {
   "cell_type": "code",
   "execution_count": 20,
   "metadata": {},
   "outputs": [
    {
     "data": {
      "text/html": [
       "<div>\n",
       "<style scoped>\n",
       "    .dataframe tbody tr th:only-of-type {\n",
       "        vertical-align: middle;\n",
       "    }\n",
       "\n",
       "    .dataframe tbody tr th {\n",
       "        vertical-align: top;\n",
       "    }\n",
       "\n",
       "    .dataframe thead th {\n",
       "        text-align: right;\n",
       "    }\n",
       "</style>\n",
       "<table border=\"1\" class=\"dataframe\">\n",
       "  <thead>\n",
       "    <tr style=\"text-align: right;\">\n",
       "      <th></th>\n",
       "      <th>questions</th>\n",
       "      <th>ranking</th>\n",
       "      <th>similarity</th>\n",
       "      <th>gender</th>\n",
       "    </tr>\n",
       "  </thead>\n",
       "  <tbody>\n",
       "    <tr>\n",
       "      <th>0</th>\n",
       "      <td>successful --ENT-- today year</td>\n",
       "      <td>366</td>\n",
       "      <td>0.431568</td>\n",
       "      <td>F</td>\n",
       "    </tr>\n",
       "    <tr>\n",
       "      <th>1</th>\n",
       "      <td>players player admire growing</td>\n",
       "      <td>352</td>\n",
       "      <td>0.247449</td>\n",
       "      <td>F</td>\n",
       "    </tr>\n",
       "    <tr>\n",
       "      <th>2</th>\n",
       "      <td>shot clock thing countdown</td>\n",
       "      <td>441</td>\n",
       "      <td>0.702559</td>\n",
       "      <td>F</td>\n",
       "    </tr>\n",
       "    <tr>\n",
       "      <th>3</th>\n",
       "      <td>birthplace --ENT-- place lot --ENT-- --ENT-- b...</td>\n",
       "      <td>760</td>\n",
       "      <td>0.270464</td>\n",
       "      <td>F</td>\n",
       "    </tr>\n",
       "    <tr>\n",
       "      <th>4</th>\n",
       "      <td>--ENT-- match today</td>\n",
       "      <td>99</td>\n",
       "      <td>0.322474</td>\n",
       "      <td>F</td>\n",
       "    </tr>\n",
       "    <tr>\n",
       "      <th>...</th>\n",
       "      <td>...</td>\n",
       "      <td>...</td>\n",
       "      <td>...</td>\n",
       "      <td>...</td>\n",
       "    </tr>\n",
       "    <tr>\n",
       "      <th>2995</th>\n",
       "      <td>thing talking yesterday court adjusted --ENT--...</td>\n",
       "      <td>825</td>\n",
       "      <td>0.962224</td>\n",
       "      <td>M</td>\n",
       "    </tr>\n",
       "    <tr>\n",
       "      <th>2996</th>\n",
       "      <td>second set seventh game points drew bit reacti...</td>\n",
       "      <td>957</td>\n",
       "      <td>0.534116</td>\n",
       "      <td>M</td>\n",
       "    </tr>\n",
       "    <tr>\n",
       "      <th>2997</th>\n",
       "      <td>expect fined touching official shoving officia...</td>\n",
       "      <td>348</td>\n",
       "      <td>0.611607</td>\n",
       "      <td>M</td>\n",
       "    </tr>\n",
       "    <tr>\n",
       "      <th>2998</th>\n",
       "      <td>notion squash shots occasionally played shots ...</td>\n",
       "      <td>770</td>\n",
       "      <td>0.502502</td>\n",
       "      <td>M</td>\n",
       "    </tr>\n",
       "    <tr>\n",
       "      <th>2999</th>\n",
       "      <td>explain nervous playing --ENT-- moment</td>\n",
       "      <td>208</td>\n",
       "      <td>0.798758</td>\n",
       "      <td>M</td>\n",
       "    </tr>\n",
       "  </tbody>\n",
       "</table>\n",
       "<p>3000 rows × 4 columns</p>\n",
       "</div>"
      ],
      "text/plain": [
       "                                              questions  ranking  similarity  \\\n",
       "0                         successful --ENT-- today year      366    0.431568   \n",
       "1                         players player admire growing      352    0.247449   \n",
       "2                            shot clock thing countdown      441    0.702559   \n",
       "3     birthplace --ENT-- place lot --ENT-- --ENT-- b...      760    0.270464   \n",
       "4                                   --ENT-- match today       99    0.322474   \n",
       "...                                                 ...      ...         ...   \n",
       "2995  thing talking yesterday court adjusted --ENT--...      825    0.962224   \n",
       "2996  second set seventh game points drew bit reacti...      957    0.534116   \n",
       "2997  expect fined touching official shoving officia...      348    0.611607   \n",
       "2998  notion squash shots occasionally played shots ...      770    0.502502   \n",
       "2999             explain nervous playing --ENT-- moment      208    0.798758   \n",
       "\n",
       "     gender  \n",
       "0         F  \n",
       "1         F  \n",
       "2         F  \n",
       "3         F  \n",
       "4         F  \n",
       "...     ...  \n",
       "2995      M  \n",
       "2996      M  \n",
       "2997      M  \n",
       "2998      M  \n",
       "2999      M  \n",
       "\n",
       "[3000 rows x 4 columns]"
      ]
     },
     "execution_count": 20,
     "metadata": {},
     "output_type": "execute_result"
    }
   ],
   "source": [
    "df_questions"
   ]
  },
  {
   "cell_type": "code",
   "execution_count": 21,
   "metadata": {},
   "outputs": [
    {
     "data": {
      "text/html": [
       "<div>\n",
       "<style scoped>\n",
       "    .dataframe tbody tr th:only-of-type {\n",
       "        vertical-align: middle;\n",
       "    }\n",
       "\n",
       "    .dataframe tbody tr th {\n",
       "        vertical-align: top;\n",
       "    }\n",
       "\n",
       "    .dataframe thead th {\n",
       "        text-align: right;\n",
       "    }\n",
       "</style>\n",
       "<table border=\"1\" class=\"dataframe\">\n",
       "  <thead>\n",
       "    <tr style=\"text-align: right;\">\n",
       "      <th></th>\n",
       "      <th>commentary</th>\n",
       "      <th>gender</th>\n",
       "    </tr>\n",
       "  </thead>\n",
       "  <tbody>\n",
       "    <tr>\n",
       "      <th>0</th>\n",
       "      <td>restarts contest foot --ENT-- reaches 30 15 he...</td>\n",
       "      <td>M</td>\n",
       "    </tr>\n",
       "    <tr>\n",
       "      <th>1</th>\n",
       "      <td>start --ENT-- --ENT-- moves 15 0 ahead --ENT--...</td>\n",
       "      <td>M</td>\n",
       "    </tr>\n",
       "    <tr>\n",
       "      <th>2</th>\n",
       "      <td>continues struggle --ENT-- serve proves diffic...</td>\n",
       "      <td>M</td>\n",
       "    </tr>\n",
       "    <tr>\n",
       "      <th>3</th>\n",
       "      <td>hold 15 begin second set NoDjo gasp break --PR...</td>\n",
       "      <td>M</td>\n",
       "    </tr>\n",
       "    <tr>\n",
       "      <th>4</th>\n",
       "      <td>hold --ENT-- --PRON-- wo fight easily competit...</td>\n",
       "      <td>M</td>\n",
       "    </tr>\n",
       "    <tr>\n",
       "      <th>...</th>\n",
       "      <td>...</td>\n",
       "      <td>...</td>\n",
       "    </tr>\n",
       "    <tr>\n",
       "      <th>2995</th>\n",
       "      <td>good response losing set --ENT-- wins --PRON--...</td>\n",
       "      <td>F</td>\n",
       "    </tr>\n",
       "    <tr>\n",
       "      <th>2996</th>\n",
       "      <td>looks strong --PRON-- makes series stunning re...</td>\n",
       "      <td>F</td>\n",
       "    </tr>\n",
       "    <tr>\n",
       "      <th>2997</th>\n",
       "      <td>manages wrong foot --ENT-- forehand line leavi...</td>\n",
       "      <td>F</td>\n",
       "    </tr>\n",
       "    <tr>\n",
       "      <th>2998</th>\n",
       "      <td>benefiting mistake --ENT-- 15 15 --ENT-- contr...</td>\n",
       "      <td>F</td>\n",
       "    </tr>\n",
       "    <tr>\n",
       "      <th>2999</th>\n",
       "      <td>stays touch hold 15 finishing game rare serve ...</td>\n",
       "      <td>F</td>\n",
       "    </tr>\n",
       "  </tbody>\n",
       "</table>\n",
       "<p>3000 rows × 2 columns</p>\n",
       "</div>"
      ],
      "text/plain": [
       "                                             commentary gender\n",
       "0     restarts contest foot --ENT-- reaches 30 15 he...      M\n",
       "1     start --ENT-- --ENT-- moves 15 0 ahead --ENT--...      M\n",
       "2     continues struggle --ENT-- serve proves diffic...      M\n",
       "3     hold 15 begin second set NoDjo gasp break --PR...      M\n",
       "4     hold --ENT-- --PRON-- wo fight easily competit...      M\n",
       "...                                                 ...    ...\n",
       "2995  good response losing set --ENT-- wins --PRON--...      F\n",
       "2996  looks strong --PRON-- makes series stunning re...      F\n",
       "2997  manages wrong foot --ENT-- forehand line leavi...      F\n",
       "2998  benefiting mistake --ENT-- 15 15 --ENT-- contr...      F\n",
       "2999  stays touch hold 15 finishing game rare serve ...      F\n",
       "\n",
       "[3000 rows x 2 columns]"
      ]
     },
     "execution_count": 21,
     "metadata": {},
     "output_type": "execute_result"
    }
   ],
   "source": [
    "df_commentary"
   ]
  },
  {
   "cell_type": "markdown",
   "metadata": {},
   "source": [
    "### Task 4  (20 points)\n",
    "\n",
    "Your goal now is to investigate whether there is gender bias in the questions being asked to female vs. male players, i.e., whether men vs. women are asked different questions on average. You start your analysis with a classification framing.\n",
    "\n",
    "\n",
    "To make your life easier, we already provided a TF-IDF matrix for each dataset (`commentary.tsv.gz` and `questions.tsv.gz`) and with code to load these matrices (which are numpy arrays).\n",
    "\n",
    "- Each row in each matrix $M$ corresponds to a row in the corresponding dataframe, i.e., each row corresponds to a different question or a different piece of TV commentary.\n",
    "- Each column in each matrix corresponds to a different word from the vocabulary.\n",
    "- Each position $(i,j)$ in the matrix contains the TF-IDF score for word $j$ from the vocabulary in question or commentary $i$. That is, each term $M[i,j]$ corresponds to the term frequency (TF) of word $j$ in text $i$, multiplied by the inverse document frequency (IDF) of word $j$:\n",
    "\n",
    "\n",
    "$$M[i,j] = \\text{TF}(i,j) * \\text{IDF}(j)$$\n",
    "\n",
    "\n",
    "1. **/Multiple Choice:/** Which of the following is the correct way to calculate the term frequency and the inverse document frequency? Justify your answer, explaining what each of the two components should capture.\n",
    "    - Option A:\n",
    "\n",
    "    $$\\text{TF}(i,j) = \\text{number of times the $j$-th word occurs in all documents} $$\n",
    "\n",
    "    $$\\text{IDF}(j) =  \\log \\frac{\\text{number of documents the $j$-th word occurs in}}{\\text{number of documents}}$$\n",
    "\n",
    "    - Option B:\n",
    "\n",
    "    $$ \\text{TF}(i,j) = \\text{number of times the $j$-th word occurs in the $i$-th document} $$\n",
    "\n",
    "    $$\\text{IDF}(j) =  \\log \\frac{\\text{number of documents the $j$-th word occurs in}}{\\text{number of documents}}$$\n",
    "\n",
    "    - Option C:\n",
    "\n",
    "    $$ \\text{TF}(i,j) = \\text{number of times the $j$-th word occurs in all documents} $$\n",
    "\n",
    "    $$\\text{IDF}(j) =  \\log \\frac{\\text{number of documents}}{\\text{number of documents the $j$-th word occurs in}}$$\n",
    "\n",
    "    - Option D:\n",
    "\n",
    "    $$ \\text{TF}(i,j) = \\text{number of times the $j$-th word occurs in the $i$-th document} $$\n",
    "\n",
    "    $$\\text{IDF}(j) =  \\log \\frac{\\text{number of documents}}{\\text{number of documents the $j$-th word occurs in}}$$\n",
    "\n",
    "\n",
    "\n",
    "2. Leveraging the matrices described above, train two logistic regression classifiers (one for interview questions, the other for TV commentary) that use the TF-IDF vectors as features to predict the gender of the athletes. You should split each dataset into training and test sets using sklearn (see [sklearn.model_selection.train_test_split](https://scikit-learn.org/stable/modules/generated/sklearn.model_selection.train_test_split.html)) using parameters `test_size=0.4` and `random_state=42`. You should use sklearn's logistic regression model (see [here](https://scikit-learn.org/stable/modules/generated/sklearn.linear_model.LogisticRegression.html#sklearn.linear_model.LogisticRegression)) using parameters `C=10` (which controls regularization) and `max_iter=2000`. For each dataset, train the model on the training set (with 60% of the data) and report the accuracy on the test set (with 40% of the data).\n",
    "\n",
    "3. **/True or false:/** Considering the following statement, answer **true** or **false** and justify your answer. **\"Based on the outcome of Task 4.2, the text from tennis commentary text is more gender-biased than post-match questions.\"**\n",
    "\n",
    "4. The parameter `C` above controls a regularization penalty. The lower `C`, the stronger the regularization penalty (caveat: sklearn’s convention is the reverse of the convention you saw in class, where a *higher* $\\lambda$ parameter meant a stronger regularization penalty ). For the questions dataset, re-run the classification task using the same setup as in Task 4.2, but now with `C=2000`. Report the accuracy.\n",
    "\n",
    "5. **/Discuss:/** Explain why increasing `C` changed the results.\n"
   ]
  },
  {
   "cell_type": "markdown",
   "metadata": {},
   "source": [
    "#### Question 1\n",
    "\n",
    "The correct option is the option **D**.\n",
    "\n",
    "- The **term frequency** is the number of times that term j occurs in document i.\n",
    "- The **inverse document** frequency is a measure of how much information the word provides, i.e., if it's common or rare across all documents."
   ]
  },
  {
   "cell_type": "markdown",
   "metadata": {},
   "source": [
    "#### Question 2"
   ]
  },
  {
   "cell_type": "code",
   "execution_count": 22,
   "metadata": {
    "pycharm": {
     "name": "#%%\n"
    }
   },
   "outputs": [],
   "source": [
    "tmp = np.load(\"./data/part-2/TFIDF.npz\")\n",
    "TFIDF_questions = tmp['questions']\n",
    "TFIDF_commentary = tmp['commentary']"
   ]
  },
  {
   "cell_type": "code",
   "execution_count": 23,
   "metadata": {},
   "outputs": [
    {
     "name": "stdout",
     "output_type": "stream",
     "text": [
      "Accuracy for questions: 0.711\n"
     ]
    }
   ],
   "source": [
    "# Split dataset\n",
    "y_questions = (df_questions['gender'] == 'M').astype(int)\n",
    "X_train_questions, X_test_questions, y_train_questions, y_test_questions = \\\n",
    "    train_test_split(TFIDF_questions, y_questions, test_size=0.4, random_state=42)\n",
    "\n",
    "# Train classifier\n",
    "clf = lm.LogisticRegression(random_state=42, C=10, max_iter=2000)\n",
    "clf.fit(X_train_questions, y_train_questions)\n",
    "\n",
    "# Validate\n",
    "y_pred_questions = clf.predict(X_test_questions)\n",
    "\n",
    "# Calculate accuracy\n",
    "accuracy_questions = accuracy_score(y_test_questions, y_pred_questions)\n",
    "print(f'Accuracy for questions: {accuracy_questions:.3f}')"
   ]
  },
  {
   "cell_type": "code",
   "execution_count": 24,
   "metadata": {
    "pycharm": {
     "name": "#%%\n"
    }
   },
   "outputs": [
    {
     "name": "stdout",
     "output_type": "stream",
     "text": [
      "Accuracy for commentary: 0.513\n"
     ]
    }
   ],
   "source": [
    "# Split dataset\n",
    "y_commentary = (df_commentary['gender'] == 'M').astype(int)\n",
    "X_train_commentary, X_test_commentary, y_train_commentary, y_test_commentary = \\\n",
    "    train_test_split(TFIDF_commentary, y_commentary, test_size=0.4, random_state=42)\n",
    "\n",
    "# Train classifier\n",
    "clf = lm.LogisticRegression(random_state=42, C=10, max_iter=2000)\n",
    "clf.fit(X_train_commentary, y_train_commentary)\n",
    "\n",
    "# Validate\n",
    "y_pred_commentary = clf.predict(X_test_commentary)\n",
    "\n",
    "# Calculate accuracy\n",
    "accuracy_commentary = accuracy_score(y_test_commentary, y_pred_commentary)\n",
    "print(f'Accuracy for commentary: {accuracy_commentary:.3f}')"
   ]
  },
  {
   "cell_type": "markdown",
   "metadata": {},
   "source": [
    "#### Question 3\n",
    "\n",
    "The accuracy is higher for questions. So, it is easier to determine the gender using the questions rather than using the commentary. So, the text from tennis post-match questions is more gender-biased than commentary text. The answer is **False**."
   ]
  },
  {
   "cell_type": "markdown",
   "metadata": {},
   "source": [
    "#### Question 4"
   ]
  },
  {
   "cell_type": "code",
   "execution_count": 25,
   "metadata": {},
   "outputs": [
    {
     "name": "stdout",
     "output_type": "stream",
     "text": [
      "Accuracy for questions: 0.689\n"
     ]
    }
   ],
   "source": [
    "# Split dataset\n",
    "y_questions = (df_questions['gender'] == 'M').astype(int)\n",
    "X_train_questions, X_test_questions, y_train_questions, y_test_questions = \\\n",
    "    train_test_split(TFIDF_questions, y_questions, test_size=0.4, random_state=42)\n",
    "\n",
    "# Train classifier\n",
    "clf = lm.LogisticRegression(random_state=42, C=2000, max_iter=2000)\n",
    "clf.fit(X_train_questions, y_train_questions)\n",
    "\n",
    "# Validate\n",
    "y_pred_questions = clf.predict(X_test_questions)\n",
    "\n",
    "# Calculate accuracy\n",
    "accuracy_questions = accuracy_score(y_test_questions, y_pred_questions)\n",
    "print(f'Accuracy for questions: {accuracy_questions:.3f}')"
   ]
  },
  {
   "cell_type": "code",
   "execution_count": 26,
   "metadata": {},
   "outputs": [
    {
     "name": "stdout",
     "output_type": "stream",
     "text": [
      "Accuracy for commentary: 0.560\n"
     ]
    }
   ],
   "source": [
    "# Split dataset\n",
    "y_commentary = (df_commentary['gender'] == 'M').astype(int)\n",
    "X_train_commentary, X_test_commentary, y_train_commentary, y_test_commentary = \\\n",
    "    train_test_split(TFIDF_commentary, y_commentary, test_size=0.4, random_state=42)\n",
    "\n",
    "# Train classifier\n",
    "clf = lm.LogisticRegression(random_state=42, C=2000, max_iter=2000)\n",
    "clf.fit(X_train_commentary, y_train_commentary)\n",
    "\n",
    "# Validate\n",
    "y_pred_commentary = clf.predict(X_test_commentary)\n",
    "\n",
    "# Calculate accuracy\n",
    "accuracy_commentary = accuracy_score(y_test_commentary, y_pred_commentary)\n",
    "print(f'Accuracy for commentary: {accuracy_commentary:.3f}')"
   ]
  },
  {
   "cell_type": "markdown",
   "metadata": {},
   "source": [
    "#### Question 5\n",
    "\n",
    "The aim of the regularizer is to avoid overfitting. So, if we increase `C`, we give less importance to the regularizer. So, with a big `C` (e.g. 2000), we observe overfitting and thus the accuracy is lower."
   ]
  },
  {
   "cell_type": "markdown",
   "metadata": {},
   "source": [
    "### Task 5 — (20 pts)\n",
    "\n",
    "You will now further inspect whether there is gender bias in the interview questions using an observational study framing. For this task, you will use the column `similarity` provided in the questions dataframe. This column captures how similar each question is to tennis-related text, i.e., a higher score indicates that the question is more about the topic of tennis. In contrast, a lower score means that the question may be personal or about other subjects.\n",
    "\n",
    "1. Using `statsmodels`, run a linear regression with `similarity` as the predictor and `gender` as the outcome. Report the summary of your model.\n",
    "\n",
    "2. **/True or false:/** According to the previous analysis, determine if the following statement is **true** or **false** and justify your answer. **\"Men are asked questions unrelated to tennis more often than women.\"**\n",
    "\n",
    "3. The ranking of players is a potential confounder here. We do not know whether the male and female players in the dataset have similar rankings. In that context, compute the average ranking for men and women. Determine if the difference is statistically significant. Additionally, create a scatter plot showing the relationship between ranking (on the y-axis) and similarity (in the x-axis) and compute Spearman's rank-correlation coefficient between `ranking` and `similarity`.\n",
    "\n",
    "4. **/True or false:/** Assume that no variable other than `gender` and `ranking` can have any influence on the `similarity` of each question. Based on the analysis of the previous question, is the following statement **true** or **false**? Justify your answer. **\"Ranking is not a worrisome confounder for the regression of Task 5.1.\"**"
   ]
  },
  {
   "cell_type": "markdown",
   "metadata": {},
   "source": [
    "#### Question 1"
   ]
  },
  {
   "cell_type": "code",
   "execution_count": 27,
   "metadata": {},
   "outputs": [
    {
     "data": {
      "text/html": [
       "<div>\n",
       "<style scoped>\n",
       "    .dataframe tbody tr th:only-of-type {\n",
       "        vertical-align: middle;\n",
       "    }\n",
       "\n",
       "    .dataframe tbody tr th {\n",
       "        vertical-align: top;\n",
       "    }\n",
       "\n",
       "    .dataframe thead th {\n",
       "        text-align: right;\n",
       "    }\n",
       "</style>\n",
       "<table border=\"1\" class=\"dataframe\">\n",
       "  <thead>\n",
       "    <tr style=\"text-align: right;\">\n",
       "      <th></th>\n",
       "      <th>questions</th>\n",
       "      <th>ranking</th>\n",
       "      <th>similarity</th>\n",
       "      <th>gender</th>\n",
       "      <th>gender_int</th>\n",
       "    </tr>\n",
       "  </thead>\n",
       "  <tbody>\n",
       "    <tr>\n",
       "      <th>0</th>\n",
       "      <td>successful --ENT-- today year</td>\n",
       "      <td>366</td>\n",
       "      <td>0.431568</td>\n",
       "      <td>F</td>\n",
       "      <td>0</td>\n",
       "    </tr>\n",
       "    <tr>\n",
       "      <th>1</th>\n",
       "      <td>players player admire growing</td>\n",
       "      <td>352</td>\n",
       "      <td>0.247449</td>\n",
       "      <td>F</td>\n",
       "      <td>0</td>\n",
       "    </tr>\n",
       "    <tr>\n",
       "      <th>2</th>\n",
       "      <td>shot clock thing countdown</td>\n",
       "      <td>441</td>\n",
       "      <td>0.702559</td>\n",
       "      <td>F</td>\n",
       "      <td>0</td>\n",
       "    </tr>\n",
       "    <tr>\n",
       "      <th>3</th>\n",
       "      <td>birthplace --ENT-- place lot --ENT-- --ENT-- b...</td>\n",
       "      <td>760</td>\n",
       "      <td>0.270464</td>\n",
       "      <td>F</td>\n",
       "      <td>0</td>\n",
       "    </tr>\n",
       "    <tr>\n",
       "      <th>4</th>\n",
       "      <td>--ENT-- match today</td>\n",
       "      <td>99</td>\n",
       "      <td>0.322474</td>\n",
       "      <td>F</td>\n",
       "      <td>0</td>\n",
       "    </tr>\n",
       "    <tr>\n",
       "      <th>...</th>\n",
       "      <td>...</td>\n",
       "      <td>...</td>\n",
       "      <td>...</td>\n",
       "      <td>...</td>\n",
       "      <td>...</td>\n",
       "    </tr>\n",
       "    <tr>\n",
       "      <th>2995</th>\n",
       "      <td>thing talking yesterday court adjusted --ENT--...</td>\n",
       "      <td>825</td>\n",
       "      <td>0.962224</td>\n",
       "      <td>M</td>\n",
       "      <td>1</td>\n",
       "    </tr>\n",
       "    <tr>\n",
       "      <th>2996</th>\n",
       "      <td>second set seventh game points drew bit reacti...</td>\n",
       "      <td>957</td>\n",
       "      <td>0.534116</td>\n",
       "      <td>M</td>\n",
       "      <td>1</td>\n",
       "    </tr>\n",
       "    <tr>\n",
       "      <th>2997</th>\n",
       "      <td>expect fined touching official shoving officia...</td>\n",
       "      <td>348</td>\n",
       "      <td>0.611607</td>\n",
       "      <td>M</td>\n",
       "      <td>1</td>\n",
       "    </tr>\n",
       "    <tr>\n",
       "      <th>2998</th>\n",
       "      <td>notion squash shots occasionally played shots ...</td>\n",
       "      <td>770</td>\n",
       "      <td>0.502502</td>\n",
       "      <td>M</td>\n",
       "      <td>1</td>\n",
       "    </tr>\n",
       "    <tr>\n",
       "      <th>2999</th>\n",
       "      <td>explain nervous playing --ENT-- moment</td>\n",
       "      <td>208</td>\n",
       "      <td>0.798758</td>\n",
       "      <td>M</td>\n",
       "      <td>1</td>\n",
       "    </tr>\n",
       "  </tbody>\n",
       "</table>\n",
       "<p>3000 rows × 5 columns</p>\n",
       "</div>"
      ],
      "text/plain": [
       "                                              questions  ranking  similarity  \\\n",
       "0                         successful --ENT-- today year      366    0.431568   \n",
       "1                         players player admire growing      352    0.247449   \n",
       "2                            shot clock thing countdown      441    0.702559   \n",
       "3     birthplace --ENT-- place lot --ENT-- --ENT-- b...      760    0.270464   \n",
       "4                                   --ENT-- match today       99    0.322474   \n",
       "...                                                 ...      ...         ...   \n",
       "2995  thing talking yesterday court adjusted --ENT--...      825    0.962224   \n",
       "2996  second set seventh game points drew bit reacti...      957    0.534116   \n",
       "2997  expect fined touching official shoving officia...      348    0.611607   \n",
       "2998  notion squash shots occasionally played shots ...      770    0.502502   \n",
       "2999             explain nervous playing --ENT-- moment      208    0.798758   \n",
       "\n",
       "     gender  gender_int  \n",
       "0         F           0  \n",
       "1         F           0  \n",
       "2         F           0  \n",
       "3         F           0  \n",
       "4         F           0  \n",
       "...     ...         ...  \n",
       "2995      M           1  \n",
       "2996      M           1  \n",
       "2997      M           1  \n",
       "2998      M           1  \n",
       "2999      M           1  \n",
       "\n",
       "[3000 rows x 5 columns]"
      ]
     },
     "execution_count": 27,
     "metadata": {},
     "output_type": "execute_result"
    }
   ],
   "source": [
    "# Add gender_int column\n",
    "df_questions['gender_int'] = (df_questions['gender'] == 'M').astype(int)\n",
    "df_questions"
   ]
  },
  {
   "cell_type": "code",
   "execution_count": 28,
   "metadata": {
    "pycharm": {
     "name": "#%%\n"
    }
   },
   "outputs": [
    {
     "name": "stdout",
     "output_type": "stream",
     "text": [
      "                            OLS Regression Results                            \n",
      "==============================================================================\n",
      "Dep. Variable:             similarity   R-squared:                       0.219\n",
      "Model:                            OLS   Adj. R-squared:                  0.219\n",
      "Method:                 Least Squares   F-statistic:                     841.1\n",
      "Date:                Tue, 25 Jan 2022   Prob (F-statistic):          3.16e-163\n",
      "Time:                        10:30:01   Log-Likelihood:                 77.527\n",
      "No. Observations:                3000   AIC:                            -151.1\n",
      "Df Residuals:                    2998   BIC:                            -139.0\n",
      "Df Model:                           1                                         \n",
      "Covariance Type:            nonrobust                                         \n",
      "======================================================================================\n",
      "                         coef    std err          t      P>|t|      [0.025      0.975]\n",
      "--------------------------------------------------------------------------------------\n",
      "Intercept              0.3750      0.006     60.804      0.000       0.363       0.387\n",
      "C(gender_int)[T.1]     0.2499      0.009     29.002      0.000       0.233       0.267\n",
      "==============================================================================\n",
      "Omnibus:                      134.873   Durbin-Watson:                   1.920\n",
      "Prob(Omnibus):                  0.000   Jarque-Bera (JB):               59.331\n",
      "Skew:                          -0.095   Prob(JB):                     1.31e-13\n",
      "Kurtosis:                       2.338   Cond. No.                         2.65\n",
      "==============================================================================\n",
      "\n",
      "Notes:\n",
      "[1] Standard Errors assume that the covariance matrix of the errors is correctly specified.\n"
     ]
    }
   ],
   "source": [
    "# Linear regression\n",
    "mod = smf.ols(formula='similarity ~ C(gender_int)', data=df_questions)\n",
    "res = mod.fit()\n",
    "print(res.summary())"
   ]
  },
  {
   "cell_type": "markdown",
   "metadata": {},
   "source": [
    "#### Question 2\n",
    "\n",
    "The p-value of `gender_int` is lesser than 5% so it is a significant predictor. We have a positive coefficient for the similarity, meaning that the similarity is higher when the gender is higher. Here, women are represented as 0 and men as 1. So, men are asked questions related to tennis more often than women. The answer is **False**."
   ]
  },
  {
   "cell_type": "markdown",
   "metadata": {},
   "source": [
    "#### Question 3"
   ]
  },
  {
   "cell_type": "code",
   "execution_count": 29,
   "metadata": {},
   "outputs": [],
   "source": [
    "# Get ranking for men and women\n",
    "men_ranking = df_questions[df_questions['gender'] == 'M'].ranking\n",
    "women_ranking = df_questions[df_questions['gender'] == 'F'].ranking"
   ]
  },
  {
   "cell_type": "code",
   "execution_count": 30,
   "metadata": {},
   "outputs": [
    {
     "data": {
      "text/plain": [
       "count    1537.000000\n",
       "mean      495.202342\n",
       "std       289.576069\n",
       "min         1.000000\n",
       "25%       246.000000\n",
       "50%       490.000000\n",
       "75%       742.000000\n",
       "max       999.000000\n",
       "Name: ranking, dtype: float64"
      ]
     },
     "execution_count": 30,
     "metadata": {},
     "output_type": "execute_result"
    }
   ],
   "source": [
    "# Average ranking for men\n",
    "men_ranking.describe()"
   ]
  },
  {
   "cell_type": "code",
   "execution_count": 31,
   "metadata": {},
   "outputs": [
    {
     "data": {
      "text/plain": [
       "count    1463.000000\n",
       "mean      503.617908\n",
       "std       289.348305\n",
       "min         1.000000\n",
       "25%       253.000000\n",
       "50%       496.000000\n",
       "75%       763.500000\n",
       "max       999.000000\n",
       "Name: ranking, dtype: float64"
      ]
     },
     "execution_count": 31,
     "metadata": {},
     "output_type": "execute_result"
    }
   ],
   "source": [
    "# Average ranking for women\n",
    "women_ranking.describe()"
   ]
  },
  {
   "cell_type": "markdown",
   "metadata": {},
   "source": [
    "The average ranking is higer for women."
   ]
  },
  {
   "cell_type": "code",
   "execution_count": 32,
   "metadata": {},
   "outputs": [
    {
     "data": {
      "text/plain": [
       "Ttest_indResult(statistic=-0.7959498763790183, pvalue=0.42612418722112966)"
      ]
     },
     "execution_count": 32,
     "metadata": {},
     "output_type": "execute_result"
    }
   ],
   "source": [
    "# T-test for the means\n",
    "stats.ttest_ind(men_ranking, women_ranking)"
   ]
  },
  {
   "cell_type": "markdown",
   "metadata": {},
   "source": [
    "The p-value is higher than 5% so we keep the null hypothesis and can say that the difference is not statistically significant."
   ]
  },
  {
   "cell_type": "code",
   "execution_count": 33,
   "metadata": {},
   "outputs": [
    {
     "data": {
      "text/plain": [
       "Text(0.5, 1.0, 'Relationship between ranking and similarity')"
      ]
     },
     "execution_count": 33,
     "metadata": {},
     "output_type": "execute_result"
    },
    {
     "data": {
      "image/png": "[encoded data removed]",
      "text/plain": [
       "<Figure size 432x288 with 1 Axes>"
      ]
     },
     "metadata": {
      "needs_background": "light"
     },
     "output_type": "display_data"
    }
   ],
   "source": [
    "# Relationship between ranking and similarity\n",
    "sns.scatterplot(x='similarity', y='ranking', data=df_questions)\n",
    "plt.title('Relationship between ranking and similarity')"
   ]
  },
  {
   "cell_type": "code",
   "execution_count": 34,
   "metadata": {},
   "outputs": [
    {
     "data": {
      "text/plain": [
       "SpearmanrResult(correlation=-0.00793480965681015, pvalue=0.663973935968952)"
      ]
     },
     "execution_count": 34,
     "metadata": {},
     "output_type": "execute_result"
    }
   ],
   "source": [
    "# Spearman correlation coefficient\n",
    "stats.spearmanr(df_questions['ranking'], df_questions['similarity'])"
   ]
  },
  {
   "cell_type": "markdown",
   "metadata": {},
   "source": [
    "#### Question 4\n",
    "\n",
    "The p-value is higher than 5% so we keep the null hypothesis and can say that `ranking` and `similarity` seem to be uncorrelated. So, ranking is not a worrisome confounder for the regression of Task 5.1. The answer is **True**."
   ]
  }
 ],
 "metadata": {
  "kernelspec": {
   "display_name": "Python 3",
   "language": "python",
   "name": "python3"
  },
  "language_info": {
   "codemirror_mode": {
    "name": "ipython",
    "version": 3
   },
   "file_extension": ".py",
   "mimetype": "text/x-python",
   "name": "python",
   "nbconvert_exporter": "python",
   "pygments_lexer": "ipython3",
   "version": "3.8.12"
  }
 },
 "nbformat": 4,
 "nbformat_minor": 1
}
